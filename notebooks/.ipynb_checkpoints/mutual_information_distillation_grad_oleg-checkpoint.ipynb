{
 "cells": [
  {
   "cell_type": "code",
   "execution_count": 1,
   "metadata": {
    "ExecuteTime": {
     "end_time": "2022-05-23T19:43:27.169518Z",
     "start_time": "2022-05-23T19:43:25.142867Z"
    }
   },
   "outputs": [
    {
     "name": "stderr",
     "output_type": "stream",
     "text": [
      "/usr/local/lib/python3.8/dist-packages/pandas/compat/_optional.py:149: UserWarning: Pandas requires version '1.3.1' or newer of 'bottleneck' (version '1.2.1' currently installed).\n",
      "  warnings.warn(msg, UserWarning)\n"
     ]
    }
   ],
   "source": [
    "import sys\n",
    "sys.path.append('../code')\n",
    "from resnet import *\n",
    "from funcs import *\n",
    "from cifar_very_tiny import *\n",
    "from cifar_tiny import *\n",
    "from cifar_dataset import *    \n",
    "import torch as t \n",
    "import numpy as np\n",
    "from numpy import polyfit\n",
    "from numpy import polyval\n",
    "import tqdm\n",
    "import matplotlib.pylab as plt\n",
    "import matplotlib.cm as cm\n",
    "import json\n",
    "# import hyperparams\n",
    "from importlib import reload\n",
    "from scipy.interpolate import interp1d\n",
    "from PIL import Image\n",
    "%matplotlib inline\n",
    "plt.rcParams['figure.figsize']=(12,9)\n",
    "plt.rcParams['font.size']= 20"
   ]
  },
  {
   "cell_type": "code",
   "execution_count": 2,
   "metadata": {
    "ExecuteTime": {
     "end_time": "2022-05-23T19:43:06.209248Z",
     "start_time": "2022-05-23T19:43:06.204836Z"
    }
   },
   "outputs": [],
   "source": [
    "epoch_num = 25\n",
    "# epoch_num = 50\n",
    "\n",
    "run_num = 2 # количество запусков эксперимента\n",
    "\n",
    "# версия нужна, чтобы различать старые и новые результаты экспериментов. \n",
    "# менять нужно каждый раз, когда есть хотя бы незначительные изменения в эксперименте\n",
    "experiment_version = '6'\n",
    "exp_ver = 6\n",
    "\n",
    "validate_every_epoch = 1\n",
    "\n",
    "# train_splines_every_epoch = 5 # каждые 5 эпох отслеживать траекторию гиперпараметров\n",
    "# train_splines_every_epoch = 2\n",
    "# train_splines_every_epoch = 3\n",
    "train_splines_every_epoch = 10\n",
    "\n",
    "# размер мини-эпохи в батчах, за которую у нас производится либо обучение спайлов, либо их использование\n",
    "mini_epoch_size = 10\n",
    "\n",
    "start_beta = 0.5\n",
    "start_temp  = 1.0"
   ]
  },
  {
   "cell_type": "code",
   "execution_count": 3,
   "metadata": {
    "ExecuteTime": {
     "end_time": "2022-05-18T09:35:37.845553Z",
     "start_time": "2022-05-18T09:35:36.254582Z"
    }
   },
   "outputs": [
    {
     "name": "stdout",
     "output_type": "stream",
     "text": [
      "Files already downloaded and verified\n",
      "Files already downloaded and verified\n"
     ]
    }
   ],
   "source": [
    "train_loader_no_augumentation, valid_loader, test_loader = cifar10_loader(batch_size=128, split_train_val=True,\n",
    "                                                                             maxsize=128*100, use_aug=False)"
   ]
  },
  {
   "cell_type": "code",
   "execution_count": 4,
   "metadata": {
    "ExecuteTime": {
     "end_time": "2022-05-18T09:35:38.593301Z",
     "start_time": "2022-05-18T09:35:38.590953Z"
    }
   },
   "outputs": [],
   "source": [
    "device = 'cuda' if t.cuda.is_available() else 'cpu'"
   ]
  },
  {
   "cell_type": "code",
   "execution_count": 5,
   "metadata": {
    "ExecuteTime": {
     "end_time": "2022-05-18T09:35:39.661995Z",
     "start_time": "2022-05-18T09:35:39.654366Z"
    }
   },
   "outputs": [],
   "source": [
    "from importlib import reload\n",
    "import hyperparams\n",
    "reload(hyperparams)\n",
    "AdamHyperGradCalculator = hyperparams.AdamHyperGradCalculator"
   ]
  },
  {
   "cell_type": "code",
   "execution_count": 6,
   "metadata": {
    "ExecuteTime": {
     "end_time": "2022-05-18T09:37:20.361887Z",
     "start_time": "2022-05-18T09:37:20.357330Z"
    }
   },
   "outputs": [],
   "source": [
    "class Student(Cifar_Very_Tiny):\n",
    "    def __init__(self):\n",
    "        Cifar_Very_Tiny.__init__(self, 10)\n",
    "        self.mu_feat = nn.Linear(128, 64).cpu()\n",
    "        self.log_sigma_feat = torch.nn.Parameter(torch.zeros(1).cpu())\n",
    "        self.bad_params = set(self.mu_feat.parameters())\n",
    "        self.bad_params.add(self.log_sigma_feat)\n",
    "        \n",
    "    def inference_parameters(self):\n",
    "        \n",
    "        for p in self.parameters():\n",
    "            if p not in self.bad_params:\n",
    "                yield p "
   ]
  },
  {
   "cell_type": "code",
   "execution_count": 12,
   "metadata": {
    "ExecuteTime": {
     "end_time": "2022-05-18T10:18:35.004284Z",
     "start_time": "2022-05-18T10:09:51.471193Z"
    }
   },
   "outputs": [
    {
     "name": "stdout",
     "output_type": "stream",
     "text": [
      "Parameter containing:\n",
      "tensor(1.0000e-04, device='cuda:0', requires_grad=True)\n"
     ]
    },
    {
     "name": "stderr",
     "output_type": "stream",
     "text": [
      "current loss:1.645577073097229: 100%|██████████| 90/90 [00:05<00:00, 16.08it/s] \n"
     ]
    },
    {
     "name": "stdout",
     "output_type": "stream",
     "text": [
      "{'epoch': 0, 'test loss': 4.443478584289551, 'val loss': 4.433594703674316, 'accuracy': 0.3111000061035156, 'lambda1': 0.07607610523700714}\n"
     ]
    },
    {
     "name": "stderr",
     "output_type": "stream",
     "text": [
      "current loss:1.2760220766067505: 100%|██████████| 90/90 [00:05<00:00, 15.92it/s]\n"
     ]
    },
    {
     "name": "stdout",
     "output_type": "stream",
     "text": [
      "{'epoch': 1, 'test loss': 4.314205169677734, 'val loss': 4.305380821228027, 'accuracy': 0.39100000262260437, 'lambda1': 0.16294345259666443}\n"
     ]
    },
    {
     "name": "stderr",
     "output_type": "stream",
     "text": [
      "current loss:1.0477262735366821: 100%|██████████| 90/90 [00:05<00:00, 15.89it/s]\n"
     ]
    },
    {
     "name": "stdout",
     "output_type": "stream",
     "text": [
      "{'epoch': 2, 'test loss': 4.354576587677002, 'val loss': 4.351713180541992, 'accuracy': 0.47269999980926514, 'lambda1': 0.2505057156085968}\n"
     ]
    },
    {
     "name": "stderr",
     "output_type": "stream",
     "text": [
      "current loss:0.850446879863739: 100%|██████████| 90/90 [00:05<00:00, 15.21it/s] \n"
     ]
    },
    {
     "name": "stdout",
     "output_type": "stream",
     "text": [
      "{'epoch': 3, 'test loss': 4.372192859649658, 'val loss': 4.371744632720947, 'accuracy': 0.5011999607086182, 'lambda1': 0.3371857702732086}\n"
     ]
    },
    {
     "name": "stderr",
     "output_type": "stream",
     "text": [
      "current loss:0.6798731684684753: 100%|██████████| 90/90 [00:05<00:00, 16.01it/s]\n"
     ]
    },
    {
     "name": "stdout",
     "output_type": "stream",
     "text": [
      "{'epoch': 4, 'test loss': 4.38297700881958, 'val loss': 4.378482341766357, 'accuracy': 0.5288000106811523, 'lambda1': 0.4251619577407837}\n"
     ]
    },
    {
     "name": "stderr",
     "output_type": "stream",
     "text": [
      "current loss:0.5470744967460632: 100%|██████████| 90/90 [00:05<00:00, 16.25it/s]\n"
     ]
    },
    {
     "name": "stdout",
     "output_type": "stream",
     "text": [
      "{'epoch': 5, 'test loss': 4.408956050872803, 'val loss': 4.397830486297607, 'accuracy': 0.546999990940094, 'lambda1': 0.5086244940757751}\n"
     ]
    },
    {
     "name": "stderr",
     "output_type": "stream",
     "text": [
      "current loss:0.4280893802642822: 100%|██████████| 90/90 [00:05<00:00, 16.55it/s] \n"
     ]
    },
    {
     "name": "stdout",
     "output_type": "stream",
     "text": [
      "{'epoch': 6, 'test loss': 4.411358833312988, 'val loss': 4.407495975494385, 'accuracy': 0.536899983882904, 'lambda1': 0.5849514603614807}\n"
     ]
    },
    {
     "name": "stderr",
     "output_type": "stream",
     "text": [
      "current loss:0.33353739976882935: 100%|██████████| 90/90 [00:05<00:00, 16.55it/s]\n"
     ]
    },
    {
     "name": "stdout",
     "output_type": "stream",
     "text": [
      "{'epoch': 7, 'test loss': 4.474179267883301, 'val loss': 4.478335380554199, 'accuracy': 0.5519999861717224, 'lambda1': 0.6628318428993225}\n"
     ]
    },
    {
     "name": "stderr",
     "output_type": "stream",
     "text": [
      "current loss:0.24440452456474304: 100%|██████████| 90/90 [00:05<00:00, 16.29it/s]\n"
     ]
    },
    {
     "name": "stdout",
     "output_type": "stream",
     "text": [
      "{'epoch': 8, 'test loss': 4.479678630828857, 'val loss': 4.473391056060791, 'accuracy': 0.5658999681472778, 'lambda1': 0.7351261973381042}\n"
     ]
    },
    {
     "name": "stderr",
     "output_type": "stream",
     "text": [
      "current loss:0.16978487372398376: 100%|██████████| 90/90 [00:05<00:00, 16.59it/s]\n"
     ]
    },
    {
     "name": "stdout",
     "output_type": "stream",
     "text": [
      "{'epoch': 9, 'test loss': 4.47775936126709, 'val loss': 4.47180700302124, 'accuracy': 0.567799985408783, 'lambda1': 0.8037296533584595}\n"
     ]
    },
    {
     "name": "stderr",
     "output_type": "stream",
     "text": [
      "current loss:0.09681166708469391: 100%|██████████| 90/90 [00:05<00:00, 16.61it/s]\n"
     ]
    },
    {
     "name": "stdout",
     "output_type": "stream",
     "text": [
      "{'epoch': 10, 'test loss': 4.483330726623535, 'val loss': 4.488106727600098, 'accuracy': 0.5845999717712402, 'lambda1': 0.8758708238601685}\n"
     ]
    },
    {
     "name": "stderr",
     "output_type": "stream",
     "text": [
      "current loss:0.05247998982667923: 100%|██████████| 90/90 [00:05<00:00, 16.80it/s] \n"
     ]
    },
    {
     "name": "stdout",
     "output_type": "stream",
     "text": [
      "{'epoch': 11, 'test loss': 4.491152286529541, 'val loss': 4.494664192199707, 'accuracy': 0.587399959564209, 'lambda1': 0.9282143712043762}\n"
     ]
    },
    {
     "name": "stderr",
     "output_type": "stream",
     "text": [
      "current loss:0.02582770586013794: 100%|██████████| 90/90 [00:05<00:00, 16.46it/s] \n"
     ]
    },
    {
     "name": "stdout",
     "output_type": "stream",
     "text": [
      "{'epoch': 12, 'test loss': 4.482264041900635, 'val loss': 4.485922336578369, 'accuracy': 0.5864999890327454, 'lambda1': 0.9603748917579651}\n"
     ]
    },
    {
     "name": "stderr",
     "output_type": "stream",
     "text": [
      "current loss:0.008050158619880676: 100%|██████████| 90/90 [00:05<00:00, 16.69it/s]\n"
     ]
    },
    {
     "name": "stdout",
     "output_type": "stream",
     "text": [
      "{'epoch': 13, 'test loss': 4.459179878234863, 'val loss': 4.465539932250977, 'accuracy': 0.5867999792098999, 'lambda1': 0.9826729893684387}\n"
     ]
    },
    {
     "name": "stderr",
     "output_type": "stream",
     "text": [
      "current loss:-0.0033706806134432554: 100%|██████████| 90/90 [00:05<00:00, 16.24it/s] \n"
     ]
    },
    {
     "name": "stdout",
     "output_type": "stream",
     "text": [
      "{'epoch': 14, 'test loss': 4.425020217895508, 'val loss': 4.432084560394287, 'accuracy': 0.5875999927520752, 'lambda1': 0.9962543845176697}\n"
     ]
    },
    {
     "name": "stderr",
     "output_type": "stream",
     "text": [
      "current loss:-0.003232513088732958: 100%|██████████| 90/90 [00:05<00:00, 16.31it/s] \n"
     ]
    },
    {
     "name": "stdout",
     "output_type": "stream",
     "text": [
      "{'epoch': 15, 'test loss': 4.395178318023682, 'val loss': 4.397289276123047, 'accuracy': 0.5871999859809875, 'lambda1': 0.9947762489318848}\n"
     ]
    },
    {
     "name": "stderr",
     "output_type": "stream",
     "text": [
      "current loss:-0.0006541862385347486: 100%|██████████| 90/90 [00:05<00:00, 15.77it/s] \n"
     ]
    },
    {
     "name": "stdout",
     "output_type": "stream",
     "text": [
      "{'epoch': 16, 'test loss': 4.375879764556885, 'val loss': 4.382795810699463, 'accuracy': 0.5870999693870544, 'lambda1': 0.9908933043479919}\n"
     ]
    },
    {
     "name": "stderr",
     "output_type": "stream",
     "text": [
      "current loss:-0.0014055201318114996: 100%|██████████| 90/90 [00:05<00:00, 16.56it/s] \n"
     ]
    },
    {
     "name": "stdout",
     "output_type": "stream",
     "text": [
      "{'epoch': 17, 'test loss': 4.3696675300598145, 'val loss': 4.3734540939331055, 'accuracy': 0.587399959564209, 'lambda1': 0.9912091493606567}\n"
     ]
    },
    {
     "name": "stderr",
     "output_type": "stream",
     "text": [
      "current loss:-0.0011468245647847652: 100%|██████████| 90/90 [00:05<00:00, 16.17it/s] \n"
     ]
    },
    {
     "name": "stdout",
     "output_type": "stream",
     "text": [
      "{'epoch': 18, 'test loss': 4.359381198883057, 'val loss': 4.364413261413574, 'accuracy': 0.586899995803833, 'lambda1': 0.9903836250305176}\n"
     ]
    },
    {
     "name": "stderr",
     "output_type": "stream",
     "text": [
      "current loss:-0.0005680273752659559: 100%|██████████| 90/90 [00:05<00:00, 16.27it/s] \n"
     ]
    },
    {
     "name": "stdout",
     "output_type": "stream",
     "text": [
      "{'epoch': 19, 'test loss': 4.355186462402344, 'val loss': 4.3571319580078125, 'accuracy': 0.5875999927520752, 'lambda1': 0.9892564415931702}\n"
     ]
    },
    {
     "name": "stderr",
     "output_type": "stream",
     "text": [
      "current loss:-0.002486579120159149: 100%|██████████| 90/90 [00:05<00:00, 16.36it/s]  \n"
     ]
    },
    {
     "name": "stdout",
     "output_type": "stream",
     "text": [
      "{'epoch': 20, 'test loss': 4.3514556884765625, 'val loss': 4.352904796600342, 'accuracy': 0.5871999859809875, 'lambda1': 0.9916344881057739}\n"
     ]
    },
    {
     "name": "stderr",
     "output_type": "stream",
     "text": [
      "current loss:-0.0036525167524814606: 100%|██████████| 90/90 [00:05<00:00, 15.90it/s]\n"
     ]
    },
    {
     "name": "stdout",
     "output_type": "stream",
     "text": [
      "{'epoch': 21, 'test loss': 4.343784809112549, 'val loss': 4.345728874206543, 'accuracy': 0.5867999792098999, 'lambda1': 0.9928898215293884}\n"
     ]
    },
    {
     "name": "stderr",
     "output_type": "stream",
     "text": [
      "current loss:0.000569450668990612:  78%|███████▊  | 70/90 [00:04<00:01, 16.05it/s]   \n",
      "\n",
      "KeyboardInterrupt\n",
      "\n"
     ]
    }
   ],
   "source": [
    "device = 'cuda'\n",
    "# определяем функцию потерь как замкнутую относительно аргументов функцию\n",
    "# нужно для подсчета градиентов гиперпараметров по двухуровневой оптимизации\n",
    "def param_loss_mi(batch,model,h):\n",
    "    lam1 = h[0]    \n",
    "    x,y,teacher_feat, teacher_logit = batch        \n",
    "    student_feat, student_logits = model.get_features(x, [3,4])\n",
    "    #print (teacher_feat.shape, teacher_logit.shape, student_feat.shape, student_logits.shape)\n",
    "    class_loss = crit(student_logits, y)\n",
    "    sigma2 = torch.log(1+torch.exp(model.log_sigma_feat))\n",
    "    feat_loss = ((model.mu_feat(teacher_feat) - student_feat)**2).sum(1).mean()/(2*sigma2) + 0.5*torch.log(sigma2)*np.prod(teacher_feat.shape[1:])\n",
    "    loss = class_loss * (1.0-lam1) + feat_loss * lam1 * 1e-4\n",
    "    return loss\n",
    "\n",
    "# определяем функцию валидационную функцию потерь как замкнутую относительно аргументов функцию\n",
    "# нужно для подсчета градиентов гиперпараметров по двухуровневой оптимизации\n",
    "def hyperparam_loss_mi(batch, model):\n",
    "    x,y = batch\n",
    "    student_feat, student_logits = model.get_features(x, [3,4])\n",
    "    class_loss = crit(student_logits, y)             \n",
    "    return class_loss \n",
    "\n",
    "crit = nn.CrossEntropyLoss()\n",
    "\n",
    "def dist_with_opt(experiment_version, train_loader_no_augumentation, test_loader, validation_loader,\n",
    "                  validate_every_epoch, lambdas=None, clip_grad=10e-3, seed=42):\n",
    "    np.random.seed(seed)\n",
    "    t.manual_seed(seed)\n",
    "    t.cuda.manual_seed(seed)\n",
    "    #t.use_deterministic_algorithms(True)\n",
    "    \n",
    "    \n",
    "    # for lam1 in [1e-7, 1e-6, 1e-5, 1e-4, 1e-3, 1e-2, 0.1, 0.5]:\n",
    "    lam1 = t.nn.Parameter(t.tensor(np.random.uniform(low=0.0, high=1.0), device=device), requires_grad=True)\n",
    "    \n",
    "    if lambdas is not None: # non-random initialization\n",
    "        lam1.data *= 0\n",
    "        lam1.data += lambdas[0]\n",
    "\n",
    "    student = Student().to(device)\n",
    "    teacher = Cifar_Tiny(10).to(device) \n",
    "    teacher.load_state_dict(torch.load('../tiny_cifar10.model', map_location=torch.device(device)))\n",
    "    #scheduler = torch.optim.lr_scheduler.StepLR(optim, step_size=10, gamma=0.5)   \n",
    "    \n",
    "\n",
    "    #mu_logit = nn.Linear(10, 10).cpu()\n",
    "    #log_sigma_logit = torch.nn.Parameter(torch.zeros(1).cpu())\n",
    "    h =[lam1]\n",
    "    print (lam1)\n",
    "    optim = torch.optim.SGD(list(student.parameters()), lr=1.0)    \n",
    "    scheduler = t.optim.lr_scheduler.StepLR(optim, step_size=10, gamma=0.5)\n",
    "    optim2 = torch.optim.Adam(h, lr=1e-3)   \n",
    "    #net, parameters_loss_function, hyperparameters_loss_function, optimizer, h\n",
    "    hyper_grad_calc = AdamHyperGradCalculator(student, param_loss_mi, hyperparam_loss_mi, optim, h)\n",
    "    val_load_iter = iter(validation_loader)\n",
    "    internal_results = []\n",
    "    for e in range(25):\n",
    "        tq = tqdm.tqdm(train_loader_no_augumentation)\n",
    "        losses = []\n",
    "\n",
    "        for batch_id, (x,y) in enumerate(tq):\n",
    "            try:\n",
    "                 (v_x, v_y) = next(val_load_iter)\n",
    "            except:                    \n",
    "                val_load_iter = iter(validation_loader)\n",
    "                (v_x, v_y) = next(val_load_iter)\n",
    "\n",
    "                \n",
    "            x = x.to(device)\n",
    "            y = y.to(device)\n",
    "\n",
    "            v_x = v_x.to(device)\n",
    "            v_y = v_y.to(device)\n",
    "            if e < 5:\n",
    "                optim2.zero_grad()\n",
    "                \n",
    "            teacher_feat, teacher_logits = teacher.get_features(x, [3,4])\n",
    "            if e < 5:                \n",
    "                hyper_grad_calc.calc_gradients((x,y, teacher_feat, teacher_logits), (v_x, v_y))                    \n",
    "                t.nn.utils.clip_grad_value_(h, clip_grad)\n",
    "\n",
    "                for h_ in h:\n",
    "                    if h_.grad is not None:\n",
    "                        h_.grad = t.where(t.isnan(h_.grad), t.zeros_like(h_.grad), h_.grad)\n",
    "\n",
    "                optim2.step()\n",
    "            if lam1 > 1.0:\n",
    "                lam1.data*=0.0\n",
    "                lam1.data+=1.0\n",
    "            if lam1 < 0.0:\n",
    "                lam1.data*=0.0\n",
    "                   \n",
    "            optim.zero_grad()\n",
    "            student_feat, student_logits = student.get_features(x, [3,4])\n",
    "            # class_loss = crit(student_logits, y)\n",
    "            # sigma2 = torch.log(1+torch.exp(log_sigma_feat))\n",
    "            # feat_loss = ((mu_feat(teacher_feat) - student_feat)**2).sum(1).mean()/(2*sigma2) + 0.5*torch.log(sigma2)*np.prod(teacher_feat.shape[1:])\n",
    "            #logit_loss =((mu_feat(teacher_feat) - student_feat)**2).sum(1).mean()/(2*sigma2) + 0.5*torch.log(sigma2)*np.prod(teacher_feat.shape[1:])\n",
    "            #lam1 = 0.5\n",
    "            loss = param_loss_mi((x,y, teacher_feat, teacher_logits), student,h)\n",
    "            loss.backward()\n",
    "            optim.step()\n",
    "            losses.append(loss.detach().cpu().numpy())\n",
    "            tq.set_description('current loss:{}'.format(np.mean(losses[-10:])))      \n",
    "        scheduler.step()\n",
    "        # student.eval()\n",
    "\n",
    "        if e==0 or (e+1)%validate_every_epoch == 0:\n",
    "            test_loss = []\n",
    "            student.eval()\n",
    "            for x,y in test_loader:\n",
    "                x = x.to(device)\n",
    "                y = y.to(device)\n",
    "                student_feat, student_logits = student.get_features(x, [2,3])\n",
    "                test_loss.append(crit(student_logits, y).detach().cpu().numpy())\n",
    "            test_loss = float(np.mean(test_loss))\n",
    "            val_loss = []\n",
    "            for x,y in validation_loader:\n",
    "                x = x.to(device)\n",
    "                y = y.to(device)\n",
    "                student_feat, student_logits = student.get_features(x, [2,3])\n",
    "                val_loss.append(crit(student_logits, y).detach().cpu().numpy())\n",
    "            val_loss = float(np.mean(val_loss))\n",
    "        \n",
    "        ac = float(accuracy(student, test_loader))\n",
    "        student.train()\n",
    "\n",
    "        # if not hyperopt:\n",
    "        internal_results.append({'epoch': e, 'test loss':test_loss, 'val loss':val_loss, 'accuracy':ac,\n",
    "                             'lambda1':float(lam1.cpu().detach().numpy()),\n",
    "                            })\n",
    "        # else:\n",
    "        #     val_acc = float(accuracy(student, validation_loader))\n",
    "        #     internal_results.append({'epoch': e, 'test loss':test_loss, 'val loss':val_loss, 'accuracy':ac,\n",
    "        #                          'lambda1':float(lam1.cpu().detach().numpy()),\n",
    "        #                           'val acc':val_acc})\n",
    "        print (internal_results[-1])\n",
    "\n",
    "    # if not hyperopt: # outer function optimization\n",
    "    with open('../logs/acc_mi_'+experiment_version+'.txt','a') as out:\n",
    "        out.write(json.dumps({'results':internal_results, 'version': exp_ver})+'\\n')\n",
    "    # else:\n",
    "    #     # inner function for hyperopt optimization\n",
    "    #     return max([res['val acc'] for res in internal_results])\n",
    "        \n",
    "        # with open('../logs/acc_mi_'+experiment_version+'.txt','a') as out:\n",
    "        #     out.write('{}: {}: {}\\n'.format(lam1, e, ac))\n",
    "dist_with_opt(experiment_version, train_loader_no_augumentation, test_loader, valid_loader, validate_every_epoch, lambdas=[1e-4])        "
   ]
  },
  {
   "cell_type": "code",
   "execution_count": null,
   "metadata": {
    "ExecuteTime": {
     "end_time": "2022-05-21T14:19:55.111441Z",
     "start_time": "2022-05-21T14:19:55.104925Z"
    }
   },
   "outputs": [],
   "source": [
    "class Student(Cifar_Very_Tiny):\n",
    "    def __init__(self):\n",
    "        Cifar_Very_Tiny.__init__(self, 10)\n",
    "        self.mu_feat = nn.Linear(64, 128).cpu()\n",
    "        self.log_sigma_feat = torch.nn.Parameter(torch.zeros(1).cpu())\n",
    "        self.bad_params = set(self.mu_feat.parameters())\n",
    "        self.bad_params.add(self.log_sigma_feat)\n",
    "        \n",
    "    def inference_parameters(self):\n",
    "        \n",
    "        for p in self.parameters():\n",
    "            if p not in self.bad_params:\n",
    "                yield p "
   ]
  },
  {
   "cell_type": "code",
   "execution_count": null,
   "metadata": {
    "ExecuteTime": {
     "end_time": "2022-05-21T14:34:17.450449Z",
     "start_time": "2022-05-21T14:25:41.908589Z"
    }
   },
   "outputs": [
    {
     "name": "stdout",
     "output_type": "stream",
     "text": [
      "Parameter containing:\n",
      "tensor(1.0000e-04, device='cuda:0', requires_grad=True)\n"
     ]
    },
    {
     "name": "stderr",
     "output_type": "stream",
     "text": [
      "current loss:1.6719249486923218: 100%|██████████| 90/90 [00:05<00:00, 15.97it/s]\n"
     ]
    },
    {
     "name": "stdout",
     "output_type": "stream",
     "text": [
      "{'epoch': 0, 'test loss': 4.695175647735596, 'val loss': 4.683809757232666, 'accuracy': 0.29009997844696045, 'lambda1': 0.0664081946015358}\n"
     ]
    },
    {
     "name": "stderr",
     "output_type": "stream",
     "text": [
      "current loss:1.3069241046905518: 100%|██████████| 90/90 [00:05<00:00, 15.76it/s]\n"
     ]
    },
    {
     "name": "stdout",
     "output_type": "stream",
     "text": [
      "{'epoch': 1, 'test loss': 4.695175647735596, 'val loss': 4.683809757232666, 'accuracy': 0.37709999084472656, 'lambda1': 0.15263879299163818}\n"
     ]
    },
    {
     "name": "stderr",
     "output_type": "stream",
     "text": [
      "current loss:1.0895476341247559: 100%|██████████| 90/90 [00:05<00:00, 15.96it/s]\n"
     ]
    },
    {
     "name": "stdout",
     "output_type": "stream",
     "text": [
      "{'epoch': 2, 'test loss': 4.695175647735596, 'val loss': 4.683809757232666, 'accuracy': 0.4693000018596649, 'lambda1': 0.23527221381664276}\n"
     ]
    },
    {
     "name": "stderr",
     "output_type": "stream",
     "text": [
      "current loss:0.9189594984054565: 100%|██████████| 90/90 [00:05<00:00, 15.91it/s]\n"
     ]
    },
    {
     "name": "stdout",
     "output_type": "stream",
     "text": [
      "{'epoch': 3, 'test loss': 4.695175647735596, 'val loss': 4.683809757232666, 'accuracy': 0.48639997839927673, 'lambda1': 0.3166409432888031}\n"
     ]
    },
    {
     "name": "stderr",
     "output_type": "stream",
     "text": [
      "current loss:0.7602696418762207: 100%|██████████| 90/90 [00:05<00:00, 16.10it/s]\n"
     ]
    },
    {
     "name": "stdout",
     "output_type": "stream",
     "text": [
      "{'epoch': 4, 'test loss': 4.591028690338135, 'val loss': 4.5913286209106445, 'accuracy': 0.5076999664306641, 'lambda1': 0.3956117630004883}\n"
     ]
    },
    {
     "name": "stderr",
     "output_type": "stream",
     "text": [
      "current loss:0.624958872795105: 100%|██████████| 90/90 [00:05<00:00, 15.98it/s] \n"
     ]
    },
    {
     "name": "stdout",
     "output_type": "stream",
     "text": [
      "{'epoch': 5, 'test loss': 4.591028690338135, 'val loss': 4.5913286209106445, 'accuracy': 0.5171999931335449, 'lambda1': 0.473690390586853}\n"
     ]
    },
    {
     "name": "stderr",
     "output_type": "stream",
     "text": [
      "current loss:0.5059987306594849: 100%|██████████| 90/90 [00:05<00:00, 16.65it/s] \n"
     ]
    },
    {
     "name": "stdout",
     "output_type": "stream",
     "text": [
      "{'epoch': 6, 'test loss': 4.591028690338135, 'val loss': 4.5913286209106445, 'accuracy': 0.5339999794960022, 'lambda1': 0.5518833994865417}\n"
     ]
    },
    {
     "name": "stderr",
     "output_type": "stream",
     "text": [
      "current loss:0.39569851756095886: 100%|██████████| 90/90 [00:05<00:00, 16.59it/s]\n"
     ]
    },
    {
     "name": "stdout",
     "output_type": "stream",
     "text": [
      "{'epoch': 7, 'test loss': 4.591028690338135, 'val loss': 4.5913286209106445, 'accuracy': 0.5496000051498413, 'lambda1': 0.6270139217376709}\n"
     ]
    },
    {
     "name": "stderr",
     "output_type": "stream",
     "text": [
      "current loss:0.30902060866355896: 100%|██████████| 90/90 [00:05<00:00, 16.20it/s]\n"
     ]
    },
    {
     "name": "stdout",
     "output_type": "stream",
     "text": [
      "{'epoch': 8, 'test loss': 4.591028690338135, 'val loss': 4.5913286209106445, 'accuracy': 0.5543999671936035, 'lambda1': 0.6929863095283508}\n"
     ]
    },
    {
     "name": "stderr",
     "output_type": "stream",
     "text": [
      "current loss:0.2441617250442505: 100%|██████████| 90/90 [00:05<00:00, 15.98it/s] \n"
     ]
    },
    {
     "name": "stdout",
     "output_type": "stream",
     "text": [
      "{'epoch': 9, 'test loss': 4.736550807952881, 'val loss': 4.741342544555664, 'accuracy': 0.5605999827384949, 'lambda1': 0.7481469511985779}\n"
     ]
    },
    {
     "name": "stderr",
     "output_type": "stream",
     "text": [
      "current loss:0.16198089718818665: 100%|██████████| 90/90 [00:05<00:00, 16.44it/s]\n"
     ]
    },
    {
     "name": "stdout",
     "output_type": "stream",
     "text": [
      "{'epoch': 10, 'test loss': 4.736550807952881, 'val loss': 4.741342544555664, 'accuracy': 0.574999988079071, 'lambda1': 0.820824146270752}\n"
     ]
    },
    {
     "name": "stderr",
     "output_type": "stream",
     "text": [
      "current loss:0.10100041329860687: 100%|██████████| 90/90 [00:05<00:00, 16.42it/s]\n"
     ]
    },
    {
     "name": "stdout",
     "output_type": "stream",
     "text": [
      "{'epoch': 11, 'test loss': 4.736550807952881, 'val loss': 4.741342544555664, 'accuracy': 0.5782999992370605, 'lambda1': 0.8878387212753296}\n"
     ]
    },
    {
     "name": "stderr",
     "output_type": "stream",
     "text": [
      "current loss:0.056807368993759155: 100%|██████████| 90/90 [00:05<00:00, 16.50it/s]\n"
     ]
    },
    {
     "name": "stdout",
     "output_type": "stream",
     "text": [
      "{'epoch': 12, 'test loss': 4.736550807952881, 'val loss': 4.741342544555664, 'accuracy': 0.5805000066757202, 'lambda1': 0.9377378821372986}\n"
     ]
    },
    {
     "name": "stderr",
     "output_type": "stream",
     "text": [
      "current loss:0.03133299574255943: 100%|██████████| 90/90 [00:05<00:00, 16.46it/s] \n"
     ]
    },
    {
     "name": "stdout",
     "output_type": "stream",
     "text": [
      "{'epoch': 13, 'test loss': 4.736550807952881, 'val loss': 4.741342544555664, 'accuracy': 0.5798999667167664, 'lambda1': 0.9674410820007324}\n"
     ]
    },
    {
     "name": "stderr",
     "output_type": "stream",
     "text": [
      "current loss:0.01834370195865631: 100%|██████████| 90/90 [00:05<00:00, 15.78it/s] \n"
     ]
    },
    {
     "name": "stdout",
     "output_type": "stream",
     "text": [
      "{'epoch': 14, 'test loss': 4.904762268066406, 'val loss': 4.899542808532715, 'accuracy': 0.5792999863624573, 'lambda1': 0.9827985763549805}\n"
     ]
    },
    {
     "name": "stderr",
     "output_type": "stream",
     "text": [
      "current loss:0.011876625940203667: 100%|██████████| 90/90 [00:05<00:00, 15.90it/s]\n"
     ]
    },
    {
     "name": "stdout",
     "output_type": "stream",
     "text": [
      "{'epoch': 15, 'test loss': 4.904762268066406, 'val loss': 4.899542808532715, 'accuracy': 0.5781999826431274, 'lambda1': 0.9899505376815796}\n"
     ]
    },
    {
     "name": "stderr",
     "output_type": "stream",
     "text": [
      "current loss:0.009869138710200787: 100%|██████████| 90/90 [00:05<00:00, 16.09it/s]\n"
     ]
    },
    {
     "name": "stdout",
     "output_type": "stream",
     "text": [
      "{'epoch': 16, 'test loss': 4.904762268066406, 'val loss': 4.899542808532715, 'accuracy': 0.5778999924659729, 'lambda1': 0.992012083530426}\n"
     ]
    },
    {
     "name": "stderr",
     "output_type": "stream",
     "text": [
      "current loss:0.009824670851230621: 100%|██████████| 90/90 [00:05<00:00, 16.47it/s] \n"
     ]
    },
    {
     "name": "stdout",
     "output_type": "stream",
     "text": [
      "{'epoch': 17, 'test loss': 4.904762268066406, 'val loss': 4.899542808532715, 'accuracy': 0.5769000053405762, 'lambda1': 0.9918172359466553}\n"
     ]
    },
    {
     "name": "stderr",
     "output_type": "stream",
     "text": [
      "current loss:0.012109311297535896: 100%|██████████| 90/90 [00:05<00:00, 15.95it/s]\n"
     ]
    },
    {
     "name": "stdout",
     "output_type": "stream",
     "text": [
      "{'epoch': 18, 'test loss': 4.904762268066406, 'val loss': 4.899542808532715, 'accuracy': 0.5776000022888184, 'lambda1': 0.9886722564697266}\n"
     ]
    },
    {
     "name": "stderr",
     "output_type": "stream",
     "text": [
      "current loss:0.014197292737662792: 100%|██████████| 90/90 [00:05<00:00, 16.19it/s]\n"
     ]
    },
    {
     "name": "stdout",
     "output_type": "stream",
     "text": [
      "{'epoch': 19, 'test loss': 4.940747261047363, 'val loss': 4.93405294418335, 'accuracy': 0.5787999629974365, 'lambda1': 0.986267626285553}\n"
     ]
    },
    {
     "name": "stderr",
     "output_type": "stream",
     "text": [
      "current loss:0.012675479054450989: 100%|██████████| 90/90 [00:05<00:00, 15.92it/s]\n"
     ]
    },
    {
     "name": "stdout",
     "output_type": "stream",
     "text": [
      "{'epoch': 20, 'test loss': 4.940747261047363, 'val loss': 4.93405294418335, 'accuracy': 0.5782999992370605, 'lambda1': 0.9881798028945923}\n"
     ]
    },
    {
     "name": "stderr",
     "output_type": "stream",
     "text": [
      "current loss:0.014071719720959663:  18%|█▊        | 16/90 [00:00<00:04, 16.25it/s]"
     ]
    }
   ],
   "source": [
    "# определяем функцию потерь как замкнутую относительно аргументов функцию\n",
    "# нужно для подсчета градиентов гиперпараметров по двухуровневой оптимизации\n",
    "def param_loss_mi(batch,model,h):\n",
    "    lam1 = h[0]    \n",
    "    x,y,teacher_feat, teacher_logit = batch\n",
    "    student_feat, student_logits = model.get_features(x, [3,4])\n",
    "    #print (teacher_feat.shape, teacher_logit.shape, student_feat.shape, student_logits.shape)\n",
    "    class_loss = crit(student_logits, y)\n",
    "    sigma2 = torch.log(1+torch.exp(model.log_sigma_feat))\n",
    "    feat_loss = ((model.mu_feat(student_feat) - teacher_feat)**2).sum(1).mean()/(2*sigma2) + 0.5*torch.log(sigma2)*np.prod(student_feat.shape[1:])\n",
    "    loss = class_loss * (1.0-lam1) + feat_loss * lam1 * 1e-4\n",
    "    return loss\n",
    "\n",
    "# определяем функцию валидационную функцию потерь как замкнутую относительно аргументов функцию\n",
    "# нужно для подсчета градиентов гиперпараметров по двухуровневой оптимизации\n",
    "def hyperparam_loss_mi(batch, model):\n",
    "    x,y = batch\n",
    "    student_feat, student_logits = model.get_features(x, [3,4])\n",
    "    class_loss = crit(student_logits, y)             \n",
    "    return class_loss \n",
    "\n",
    "crit = nn.CrossEntropyLoss()\n",
    "\n",
    "def dist_with_opt(experiment_version, train_loader_no_augumentation, test_loader, validation_loader, validate_every_epoch, lambdas=None, clip_grad=10e-3, seed=42):\n",
    "    np.random.seed(seed)\n",
    "    t.manual_seed(seed)\n",
    "    \n",
    "    # for lam1 in [1e-7, 1e-6, 1e-5, 1e-4, 1e-3, 1e-2, 0.1, 0.5]:\n",
    "    lam1 = t.nn.Parameter(t.tensor(np.random.uniform(low=0.0, high=1.0), device=device), requires_grad=True)\n",
    "    \n",
    "    if lambdas is not None: # non-random initialization\n",
    "        lam1.data *= 0\n",
    "        lam1.data += lambdas[0]\n",
    "\n",
    "    student = Student().to(device)\n",
    "    teacher = Cifar_Tiny(10).to(device) \n",
    "    teacher.load_state_dict(torch.load('../tiny_cifar10.model', map_location=torch.device(device)))\n",
    "    #scheduler = torch.optim.lr_scheduler.StepLR(optim, step_size=10, gamma=0.5)   \n",
    "    \n",
    "\n",
    "    #mu_logit = nn.Linear(10, 10).cpu()\n",
    "    #log_sigma_logit = torch.nn.Parameter(torch.zeros(1).cpu())\n",
    "    h =[lam1]\n",
    "    print (lam1)\n",
    "    optim = torch.optim.SGD(list(student.parameters()), lr=1.0)    \n",
    "    scheduler = t.optim.lr_scheduler.StepLR(optim, step_size=10, gamma=0.5)\n",
    "    optim2 = torch.optim.Adam(h, lr=1e-3)   \n",
    "    #net, parameters_loss_function, hyperparameters_loss_function, optimizer, h\n",
    "    hyper_grad_calc = AdamHyperGradCalculator(student, param_loss_mi, hyperparam_loss_mi, optim, h)\n",
    "    val_load_iter = iter(validation_loader)\n",
    "    internal_results = []\n",
    "    for e in range(25):\n",
    "        tq = tqdm.tqdm(train_loader_no_augumentation)\n",
    "        losses = []\n",
    "\n",
    "        for batch_id, (x,y) in enumerate(tq):\n",
    "            try:\n",
    "                 (v_x, v_y) = next(val_load_iter)\n",
    "            except:                    \n",
    "                val_load_iter = iter(validation_loader)\n",
    "                (v_x, v_y) = next(val_load_iter)\n",
    "\n",
    "                \n",
    "            x = x.to(device)\n",
    "            y = y.to(device)\n",
    "\n",
    "            v_x = v_x.to(device)\n",
    "            v_y = v_y.to(device)\n",
    "            optim2.zero_grad()\n",
    "            teacher_feat, teacher_logits = teacher.get_features(x, [3,4])\n",
    "            \n",
    "            hyper_grad_calc.calc_gradients((x,y, teacher_feat, teacher_logits), (v_x, v_y))                    \n",
    "            t.nn.utils.clip_grad_value_(h, clip_grad)\n",
    "\n",
    "            for h_ in h:\n",
    "                if h_.grad is not None:\n",
    "                    h_.grad = t.where(t.isnan(h_.grad), t.zeros_like(h_.grad), h_.grad)\n",
    "            \n",
    "            optim2.step()\n",
    "            if lam1 > 1.0:\n",
    "                lam1.data*=0.0\n",
    "                lam1.data+=1.0\n",
    "            if lam1 < 0.0:\n",
    "                lam1.data*=0.0\n",
    "                   \n",
    "            optim.zero_grad()\n",
    "            student_feat, student_logits = student.get_features(x, [3,4])\n",
    "            # class_loss = crit(student_logits, y)\n",
    "            # sigma2 = torch.log(1+torch.exp(log_sigma_feat))\n",
    "            # feat_loss = ((mu_feat(teacher_feat) - student_feat)**2).sum(1).mean()/(2*sigma2) + 0.5*torch.log(sigma2)*np.prod(teacher_feat.shape[1:])\n",
    "            #logit_loss =((mu_feat(teacher_feat) - student_feat)**2).sum(1).mean()/(2*sigma2) + 0.5*torch.log(sigma2)*np.prod(teacher_feat.shape[1:])\n",
    "            #lam1 = 0.5\n",
    "            loss = param_loss_mi((x,y, teacher_feat, teacher_logits), student,h)\n",
    "            loss.backward()\n",
    "            optim.step()\n",
    "            losses.append(loss.detach().cpu().numpy())\n",
    "            tq.set_description('current loss:{}'.format(np.mean(losses[-10:])))      \n",
    "        scheduler.step()\n",
    "        # student.eval()\n",
    "\n",
    "        if e==0 or (e+1)%validate_every_epoch == 0:\n",
    "            test_loss = []\n",
    "            student.eval()\n",
    "            for x,y in test_loader:\n",
    "                x = x.to(device)\n",
    "                y = y.to(device)\n",
    "                student_feat, student_logits = student.get_features(x, [2,3])\n",
    "                test_loss.append(crit(student_logits, y).detach().cpu().numpy())\n",
    "            test_loss = float(np.mean(test_loss))\n",
    "            val_loss = []\n",
    "            for x,y in validation_loader:\n",
    "                x = x.to(device)\n",
    "                y = y.to(device)\n",
    "                student_feat, student_logits = student.get_features(x, [2,3])\n",
    "                val_loss.append(crit(student_logits, y).detach().cpu().numpy())\n",
    "            val_loss = float(np.mean(val_loss))\n",
    "        \n",
    "        ac = float(accuracy(student, test_loader))\n",
    "        student.train()\n",
    "\n",
    "        # if not hyperopt:\n",
    "        internal_results.append({'epoch': e, 'test loss':test_loss, 'val loss':val_loss, 'accuracy':ac,\n",
    "                             'lambda1':float(lam1.cpu().detach().numpy()),\n",
    "                            })\n",
    "        # else:\n",
    "        #     val_acc = float(accuracy(student, validation_loader))\n",
    "        #     internal_results.append({'epoch': e, 'test loss':test_loss, 'val loss':val_loss, 'accuracy':ac,\n",
    "        #                          'lambda1':float(lam1.cpu().detach().numpy()),\n",
    "        #                           'val acc':val_acc})\n",
    "        print (internal_results[-1])\n",
    "\n",
    "    # if not hyperopt: # outer function optimization\n",
    "    with open('../logs/acc_mi_'+experiment_version+'.txt','a') as out:\n",
    "        out.write(json.dumps({'results':internal_results, 'version': exp_ver})+'\\n')\n",
    "    # else:\n",
    "    #     # inner function for hyperopt optimization\n",
    "    #     return max([res['val acc'] for res in internal_results])\n",
    "        \n",
    "        # with open('../logs/acc_mi_'+experiment_version+'.txt','a') as out:\n",
    "        #     out.write('{}: {}: {}\\n'.format(lam1, e, ac))\n",
    "dist_with_opt(experiment_version, train_loader_no_augumentation, test_loader, valid_loader, validate_every_epoch, lambdas=[1e-4])        "
   ]
  },
  {
   "cell_type": "code",
   "execution_count": 13,
   "metadata": {
    "ExecuteTime": {
     "end_time": "2022-05-18T09:38:53.638146Z",
     "start_time": "2022-05-18T09:38:53.633334Z"
    }
   },
   "outputs": [],
   "source": [
    "def accuracy(student, t_load):\n",
    "    student.eval()\n",
    "    total = 0 \n",
    "    correct = 0\n",
    "    with t.no_grad():\n",
    "        for x,y in t_load:\n",
    "            x = x.to(device)\n",
    "            y = y.to(device)\n",
    "            out = student(x)\n",
    "            correct += t.eq(t.argmax(out, 1), y).sum()\n",
    "            total+=len(x)\n",
    "    student.train()\n",
    "    return (correct/total).cpu().detach().numpy()\n"
   ]
  },
  {
   "cell_type": "code",
   "execution_count": null,
   "metadata": {},
   "outputs": [],
   "source": [
    "def dist_with_no_opt(experiment_version, train_loader_no_augumentation, test_loader, validation_loader, validate_every_epoch, lambdas=None, file=True, no_tqdm=False, clip_grad=10e-3, seed=42):\n",
    "    np.random.seed(seed)\n",
    "    t.manual_seed(seed)\n",
    "\n",
    "    lam1 = t.nn.Parameter(t.tensor(np.random.uniform(low=0.0, high=1.0), device=device), requires_grad=True)\n",
    "\n",
    "    if lambdas is not None: # non-random initialization\n",
    "        lam1.data *= 0\n",
    "        lam1.data += lambdas[0]\n",
    "    \n",
    "    student = Cifar_Very_Tiny(10).cpu()\n",
    "    teacher = Cifar_Tiny(10).cpu() \n",
    "    teacher.load_state_dict(torch.load('tiny_cifar10.model?raw=true', map_location=torch.device('cpu')))\n",
    "    #scheduler = torch.optim.lr_scheduler.StepLR(optim, step_size=10, gamma=0.5)   \n",
    "    mu_feat = nn.Linear(128, 64).cpu()\n",
    "    log_sigma_feat = torch.nn.Parameter(torch.zeros(1).cpu())\n",
    "\n",
    "    #mu_logit = nn.Linear(10, 10).cpu()\n",
    "    #log_sigma_logit = torch.nn.Parameter(torch.zeros(1).cpu())\n",
    "\n",
    "\n",
    "    optim = torch.optim.Adam(list(student.parameters()) + list(mu_feat.parameters()) + [log_sigma_feat])    \n",
    "    val_load_iter = iter(val_load)\n",
    "\n",
    "    for e in range(25):\n",
    "        tq = tqdm.tqdm(train_loader_no_augumentation)\n",
    "        if no_tqdm:\n",
    "            tq = train_loader_no_augumentation\n",
    "        losses = []\n",
    "\n",
    "        for batch_id, (x,y) in enumerate(tq):\n",
    "            try:\n",
    "                 (v_x, v_y) = next(val_load_iter)\n",
    "            except:                    \n",
    "                val_load_iter = iter(val_load)\n",
    "                (v_x, v_y) = next(val_load_iter)\n",
    "                \n",
    "            x = x.to(device)\n",
    "            y = y.to(device)\n",
    "            optim.zero_grad()\n",
    "            student_feat, student_logits = student.get_features(x, [3,4])\n",
    "            # class_loss = crit(student_logits, y)\n",
    "            # sigma2 = torch.log(1+torch.exp(log_sigma_feat))\n",
    "            # feat_loss = ((mu_feat(teacher_feat) - student_feat)**2).sum(1).mean()/(2*sigma2) + 0.5*torch.log(sigma2)*np.prod(teacher_feat.shape[1:])\n",
    "            #logit_loss =((mu_feat(teacher_feat) - student_feat)**2).sum(1).mean()/(2*sigma2) + 0.5*torch.log(sigma2)*np.prod(teacher_feat.shape[1:])\n",
    "            #lam1 = 0.5\n",
    "            loss = param_loss_mi((x,y,teacher_logits,mu_feat,log_sigma_feat), student,lam1)\n",
    "\n",
    "            loss.backward()\n",
    "            optim.step()\n",
    "            losses.append(loss.detach().cpu().numpy())\n",
    "            if not no_tqdm:\n",
    "                tq.set_description('current loss:{}'.format(np.mean(losses[-10:])))\n",
    "        #scheduler.step()\n",
    "        \n",
    "        if e==0 or (e+1)%validate_every_epoch == 0:\n",
    "            test_loss = []\n",
    "            student.eval()\n",
    "            for x,y in test_loader:\n",
    "                x = x.to(device)\n",
    "                y = y.to(device)\n",
    "                student_feat, student_logits = student.get_features(x, [3,4])\n",
    "                test_loss.append(crit(student_logits, y).detach().cpu().numpy())\n",
    "            test_loss = float(np.mean(test_loss))\n",
    "            val_loss = []\n",
    "            for x,y in validation_loader:\n",
    "                x = x.to(device)\n",
    "                y = y.to(device)\n",
    "                student_feat, student_logits = student.get_features(x, [3,4])\n",
    "                val_loss.append(crit(student_logits, y).detach().cpu().numpy())\n",
    "            val_loss = float(np.mean(val_loss))\n",
    "        \n",
    "        ac = float(accuracy(student, test_loader))\n",
    "        \n",
    "        if file:\n",
    "            internal_results.append({'epoch': e, 'test loss':test_loss, 'val loss':val_loss, 'accuracy':ac,\n",
    "                                 'lambda1':float(lam1.cpu().detach().numpy()),\n",
    "                                })\n",
    "        else:\n",
    "            val_acc = float(accuracy(student, validation_loader))\n",
    "            internal_results.append({'epoch': e, 'test loss':test_loss, 'val loss':val_loss, 'accuracy':ac,\n",
    "                                 'lambda1':float(lam1.cpu().detach().numpy()),\n",
    "                                  'val acc':val_acc})\n",
    "        \n",
    "        print (internal_results[-1])\n",
    "\n",
    "    if file: # outer function optimization\n",
    "        with open('../logs/acc_mi_'+experiment_version+'.txt','a') as out:\n",
    "            out.write(json.dumps({'results':internal_results, 'version': experiment_version})+'\\n')\n",
    "    else:\n",
    "        # inner function for hyperopt optimization\n",
    "        return max([res['val acc'] for res in internal_results])\n",
    "        \n",
    "        # with open('../logs/acc_mi_'+experiment_version+'.txt','a') as out:\n",
    "        #     out.write('{}: {}: {}\\n'.format(lam1, e, ac))\n",
    "\n",
    "\n",
    "def dist_hyperopt(experiment_version, run_num, tr_load, t_load, val_load, validate_every_epoch, trial_num):\n",
    "    np.random.seed(42)\n",
    "    t.manual_seed(42)\n",
    "\n",
    "    for _ in range(run_num):\n",
    "        cost_function = lambda lambdas: -dist_with_no_opt(experiment_version, train_loader_no_augumentation, test_loader, validation_loader, validate_every_epoch, lambdas = best_lambdas['lambda1'], file=False, no_tqdm=True) # validation accuracy * (-1) -> min\n",
    "       \n",
    "        best_lambdas = fmin(fn=cost_function,                             \n",
    "        #space= [ hp.uniform('lambda1', 0.0, 1.0), hp.uniform('lambda2', 0.0, 1.0), hp.uniform('temp', 0.1, 10.0)],\n",
    "        space= [ hp.uniform('lambda1', 0.0, 1.0)],  \n",
    "        algo=tpe.suggest,\n",
    "        max_evals=trial_num)\n",
    "        #cifar_with_validation_set(exp_ver, 1, epoch_num, filename, tr_s_epoch, m_e, tr_load, t_load, val_load, validate_every_epoch, lambdas = [best_lambdas['lambda1'], best_lambdas['lambda2'], best_lambdas['temp']],  mode='no-opt')\n",
    "        dist_with_no_opt(experiment_version, train_loader_no_augumentation, test_loader, validation_loader, validate_every_epoch, lambdas = best_lambdas['lambda1'])"
   ]
  },
  {
   "cell_type": "markdown",
   "metadata": {},
   "source": [
    "# Results"
   ]
  },
  {
   "cell_type": "code",
   "execution_count": 28,
   "metadata": {
    "ExecuteTime": {
     "end_time": "2022-05-23T19:33:44.004767Z",
     "start_time": "2022-05-23T19:33:43.976462Z"
    }
   },
   "outputs": [],
   "source": [
    "from matplotlib import pylab as plt\n",
    "\n",
    "plt.rcParams['font.family'] = 'DejaVu Serif'\n",
    "plt.rcParams['lines.linewidth'] = 2\n",
    "plt.rcParams['lines.markersize'] = 12\n",
    "plt.rcParams['xtick.labelsize'] = 36\n",
    "plt.rcParams['ytick.labelsize'] = 36\n",
    "plt.rcParams['legend.fontsize'] = 24\n",
    "plt.rcParams['axes.titlesize'] = 36\n",
    "plt.rcParams['axes.labelsize'] = 36"
   ]
  },
  {
   "cell_type": "code",
   "execution_count": 37,
   "metadata": {
    "ExecuteTime": {
     "end_time": "2022-05-23T19:45:32.583096Z",
     "start_time": "2022-05-23T19:45:32.573887Z"
    }
   },
   "outputs": [],
   "source": [
    "data_2 = open_data_json(\"../logs/acc_mi_6.json\")\n",
    "data_1 = open_data_json(\"../logs/acc_mi_4.json\")\n",
    "# data_d = open_data_json(\"../log/exp33_distil.jsonl\")\n",
    "# data_dr = open_data_json(\"../log/exp33_random.jsonl\")\n",
    "# data_h = open_data_json(\"../log/exp33_opt.jsonl\")\n",
    "# data_s = open_data_json(\"../log/exp33_splines.jsonl\")\n",
    "# data_ho = open_data_json(\"../log/exp33_hyperopt.jsonl\")"
   ]
  },
  {
   "cell_type": "code",
   "execution_count": 38,
   "metadata": {
    "ExecuteTime": {
     "end_time": "2022-05-23T19:46:08.573108Z",
     "start_time": "2022-05-23T19:46:08.358495Z"
    }
   },
   "outputs": [
    {
     "data": {
      "text/plain": [
       "<matplotlib.legend.Legend at 0x7fc0c2acfd60>"
      ]
     },
     "execution_count": 38,
     "metadata": {},
     "output_type": "execute_result"
    },
    {
     "data": {
      "image/png": "[encoded data removed]",
      "text/plain": [
       "<Figure size 864x648 with 1 Axes>"
      ]
     },
     "metadata": {
      "needs_background": "light"
     },
     "output_type": "display_data"
    }
   ],
   "source": [
    "plot_data_params(data_1, 'test loss', '1', 'tab:blue', '')\n",
    "plot_data_params(data_2, 'test loss', '2', 'tab:orange', '')\n",
    "# plot_data_params(data_dr, 'test loss', 'оптимизация гиперпараметров', 'tab:red', '')\n",
    "# plot_data_params(data_h, 'test loss', 'случайные гиперпараметры', 'tab:green', '')\n",
    "\n",
    "plt.xlabel('Количество эпох')\n",
    "plt.ylabel('Потеря на тестовой выборке')\n",
    "\n",
    "plt.legend()\n",
    "# plt.savefig('../figs/loss_full.pdf')"
   ]
  },
  {
   "cell_type": "code",
   "execution_count": 40,
   "metadata": {
    "ExecuteTime": {
     "end_time": "2022-05-23T19:47:22.326810Z",
     "start_time": "2022-05-23T19:47:22.113231Z"
    }
   },
   "outputs": [
    {
     "data": {
      "text/plain": [
       "<matplotlib.legend.Legend at 0x7fc0c2c11070>"
      ]
     },
     "execution_count": 40,
     "metadata": {},
     "output_type": "execute_result"
    },
    {
     "data": {
      "image/png": "[encoded data removed]",
      "text/plain": [
       "<Figure size 864x648 with 1 Axes>"
      ]
     },
     "metadata": {
      "needs_background": "light"
     },
     "output_type": "display_data"
    }
   ],
   "source": [
    "plot_data_params(data_1, 'accuracy', '1', 'tab:purple', '+')\n",
    "plot_data_params(data_2, 'accuracy', '2', 'tab:blue', 'x')\n",
    "# plot_data_params(data_h, 'accuracy', 'Gradient-based optimization', 'tab:green', '.')\n",
    "# plot_data_params(data_dr, 'accuracy', 'Random metaparameters', 'tab:orange', '4')\n",
    "# plot_data_params(data_s, 'accuracy', 'Proposed', 'tab:red', '-')\n",
    "# plot_data_params(data_ho, 'accuracy', 'HyperOpt', 'k', '1')\n",
    "\n",
    "plt.xlabel('Epoch number')\n",
    "plt.ylabel('Accuracy')\n",
    "plt.legend()\n",
    "# plt.savefig('../figs/mini_cifar_accuracy.pdf')"
   ]
  },
  {
   "cell_type": "code",
   "execution_count": null,
   "metadata": {},
   "outputs": [],
   "source": []
  }
 ],
 "metadata": {
  "kernelspec": {
   "display_name": "Python 3 (ipykernel)",
   "language": "python",
   "name": "python3"
  },
  "language_info": {
   "codemirror_mode": {
    "name": "ipython",
    "version": 3
   },
   "file_extension": ".py",
   "mimetype": "text/x-python",
   "name": "python",
   "nbconvert_exporter": "python",
   "pygments_lexer": "ipython3",
   "version": "3.8.10"
  },
  "latex_envs": {
   "LaTeX_envs_menu_present": true,
   "autoclose": true,
   "autocomplete": true,
   "bibliofile": "biblio.bib",
   "cite_by": "apalike",
   "current_citInitial": 1,
   "eqLabelWithNumbers": true,
   "eqNumInitial": 1,
   "hotkeys": {
    "equation": "Ctrl-E",
    "itemize": "Ctrl-I"
   },
   "labels_anchors": false,
   "latex_user_defs": false,
   "report_style_numbering": false,
   "user_envs_cfg": false
  },
  "toc": {
   "base_numbering": 1,
   "nav_menu": {},
   "number_sections": false,
   "sideBar": true,
   "skip_h1_title": false,
   "title_cell": "Table of Contents",
   "title_sidebar": "Contents",
   "toc_cell": false,
   "toc_position": {},
   "toc_section_display": true,
   "toc_window_display": false
  },
  "varInspector": {
   "cols": {
    "lenName": 16,
    "lenType": 16,
    "lenVar": 40
   },
   "kernels_config": {
    "python": {
     "delete_cmd_postfix": "",
     "delete_cmd_prefix": "del ",
     "library": "var_list.py",
     "varRefreshCmd": "print(var_dic_list())"
    },
    "r": {
     "delete_cmd_postfix": ") ",
     "delete_cmd_prefix": "rm(",
     "library": "var_list.r",
     "varRefreshCmd": "cat(var_dic_list()) "
    }
   },
   "types_to_exclude": [
    "module",
    "function",
    "builtin_function_or_method",
    "instance",
    "_Feature"
   ],
   "window_display": false
  }
 },
 "nbformat": 4,
 "nbformat_minor": 4
}
