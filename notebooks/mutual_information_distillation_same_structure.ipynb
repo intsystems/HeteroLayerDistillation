{
 "cells": [
  {
   "cell_type": "code",
   "execution_count": 1,
   "metadata": {
    "ExecuteTime": {
     "end_time": "2022-03-24T21:21:04.594785Z",
     "start_time": "2022-03-24T21:21:01.395782Z"
    }
   },
   "outputs": [],
   "source": [
    "import sys\n",
    "sys.path.append('../code')\n",
    "from resnet import *\n",
    "from funcs import *\n",
    "from cifar_very_tiny import *\n",
    "from cifar_tiny import *\n",
    "from cifar_dataset import *    \n",
    "import torch as t \n",
    "import numpy as np\n",
    "from numpy import polyfit\n",
    "from numpy import polyval\n",
    "import tqdm\n",
    "import matplotlib.pylab as plt\n",
    "import matplotlib.cm as cm\n",
    "import json\n",
    "import hyperparams\n",
    "from importlib import reload\n",
    "from scipy.interpolate import interp1d\n",
    "from PIL import Image\n",
    "%matplotlib inline\n",
    "plt.rcParams['figure.figsize']=(12,9)\n",
    "plt.rcParams['font.size']= 20"
   ]
  },
  {
   "cell_type": "code",
   "execution_count": 2,
   "metadata": {
    "ExecuteTime": {
     "end_time": "2022-03-24T21:21:08.344453Z",
     "start_time": "2022-03-24T21:21:06.478182Z"
    }
   },
   "outputs": [
    {
     "name": "stdout",
     "output_type": "stream",
     "text": [
      "Files already downloaded and verified\n",
      "Files already downloaded and verified\n"
     ]
    }
   ],
   "source": [
    "# добавил в загрузку валидационную выборку\n",
    "# обрати внимание, maxsize --- это размер совокпного обучения и валидации\n",
    "# поэтому размер обучающей выборки совпадает с тем, что было до этого\n",
    "\n",
    "train_loader_no_augumentation, test_loader = cifar10_loader(batch_size=128, split_train_val=False,\n",
    "                                                                             maxsize=128*100, use_aug=False)\n"
   ]
  },
  {
   "cell_type": "code",
   "execution_count": 3,
   "metadata": {
    "ExecuteTime": {
     "end_time": "2022-03-24T21:21:12.071777Z",
     "start_time": "2022-03-24T21:21:12.066807Z"
    }
   },
   "outputs": [],
   "source": [
    "epoch_num = 50\n",
    "# epoch_num = 50\n",
    "\n",
    "run_num = 1 # количество запусков эксперимента\n",
    "\n",
    "# версия нужна, чтобы различать старые и новые результаты экспериментов. \n",
    "# менять нужно каждый раз, когда есть хотя бы незначительные изменения в эксперименте\n",
    "experiment_version = '2'\n",
    "\n",
    "validate_every_epoch = 5 \n",
    "\n",
    "# train_splines_every_epoch = 5 # каждые 5 эпох отслеживать траекторию гиперпараметров\n",
    "# train_splines_every_epoch = 2\n",
    "# train_splines_every_epoch = 3\n",
    "train_splines_every_epoch = 10\n",
    "\n",
    "# размер мини-эпохи в батчах, за которую у нас производится либо обучение спайлов, либо их использование\n",
    "mini_epoch_size = 10\n",
    "\n",
    "start_beta = 0.5\n",
    "start_temp  = 1.0"
   ]
  },
  {
   "cell_type": "code",
   "execution_count": 6,
   "metadata": {
    "ExecuteTime": {
     "end_time": "2022-03-24T21:27:30.924044Z",
     "start_time": "2022-03-24T21:23:36.181195Z"
    },
    "scrolled": true
   },
   "outputs": [
    {
     "name": "stderr",
     "output_type": "stream",
     "text": [
      "current loss:1.46066153049469: 100%|██████████| 100/100 [00:07<00:00, 13.77it/s] \n",
      "current loss:1.407785177230835:   2%|▏         | 2/100 [00:00<00:07, 12.99it/s]"
     ]
    },
    {
     "name": "stdout",
     "output_type": "stream",
     "text": [
      "0 0.4041999876499176\n"
     ]
    },
    {
     "name": "stderr",
     "output_type": "stream",
     "text": [
      "current loss:1.2885187864303589: 100%|██████████| 100/100 [00:07<00:00, 14.19it/s]\n",
      "current loss:1.2047837972640991:   2%|▏         | 2/100 [00:00<00:07, 13.24it/s]"
     ]
    },
    {
     "name": "stdout",
     "output_type": "stream",
     "text": [
      "1 0.4722999930381775\n"
     ]
    },
    {
     "name": "stderr",
     "output_type": "stream",
     "text": [
      "current loss:1.1809179782867432: 100%|██████████| 100/100 [00:07<00:00, 13.03it/s]\n",
      "current loss:1.0772325992584229:   2%|▏         | 2/100 [00:00<00:07, 13.40it/s]"
     ]
    },
    {
     "name": "stdout",
     "output_type": "stream",
     "text": [
      "2 0.5121999979019165\n"
     ]
    },
    {
     "name": "stderr",
     "output_type": "stream",
     "text": [
      "current loss:1.1135978698730469: 100%|██████████| 100/100 [00:08<00:00, 11.91it/s]\n",
      "current loss:0.9911186695098877:   2%|▏         | 2/100 [00:00<00:07, 13.26it/s]"
     ]
    },
    {
     "name": "stdout",
     "output_type": "stream",
     "text": [
      "3 0.5292999744415283\n"
     ]
    },
    {
     "name": "stderr",
     "output_type": "stream",
     "text": [
      "current loss:1.0603312253952026: 100%|██████████| 100/100 [00:07<00:00, 13.69it/s]\n",
      "current loss:0.9305613040924072:   2%|▏         | 2/100 [00:00<00:07, 12.98it/s]"
     ]
    },
    {
     "name": "stdout",
     "output_type": "stream",
     "text": [
      "4 0.5357000231742859\n"
     ]
    },
    {
     "name": "stderr",
     "output_type": "stream",
     "text": [
      "current loss:1.016140341758728: 100%|██████████| 100/100 [00:07<00:00, 12.77it/s]\n",
      "current loss:0.8870053887367249:   2%|▏         | 2/100 [00:00<00:07, 13.76it/s]"
     ]
    },
    {
     "name": "stdout",
     "output_type": "stream",
     "text": [
      "5 0.5440000295639038\n"
     ]
    },
    {
     "name": "stderr",
     "output_type": "stream",
     "text": [
      "current loss:0.9799169301986694: 100%|██████████| 100/100 [00:07<00:00, 13.26it/s]\n",
      "current loss:0.8456747531890869:   2%|▏         | 2/100 [00:00<00:07, 13.33it/s]"
     ]
    },
    {
     "name": "stdout",
     "output_type": "stream",
     "text": [
      "6 0.5478000044822693\n"
     ]
    },
    {
     "name": "stderr",
     "output_type": "stream",
     "text": [
      "current loss:0.951419472694397: 100%|██████████| 100/100 [00:08<00:00, 12.29it/s]\n",
      "current loss:0.8124432563781738:   2%|▏         | 2/100 [00:00<00:07, 12.62it/s]"
     ]
    },
    {
     "name": "stdout",
     "output_type": "stream",
     "text": [
      "7 0.5582000017166138\n"
     ]
    },
    {
     "name": "stderr",
     "output_type": "stream",
     "text": [
      "current loss:0.9197728037834167: 100%|██████████| 100/100 [00:07<00:00, 13.69it/s]\n",
      "current loss:0.7807217836380005:   2%|▏         | 2/100 [00:00<00:07, 12.87it/s]"
     ]
    },
    {
     "name": "stdout",
     "output_type": "stream",
     "text": [
      "8 0.557200014591217\n"
     ]
    },
    {
     "name": "stderr",
     "output_type": "stream",
     "text": [
      "current loss:0.8988010287284851: 100%|██████████| 100/100 [00:07<00:00, 13.39it/s]\n",
      "current loss:0.7561680674552917:   2%|▏         | 2/100 [00:00<00:07, 13.24it/s]"
     ]
    },
    {
     "name": "stdout",
     "output_type": "stream",
     "text": [
      "9 0.5608999729156494\n"
     ]
    },
    {
     "name": "stderr",
     "output_type": "stream",
     "text": [
      "current loss:0.8751498460769653: 100%|██████████| 100/100 [00:07<00:00, 13.87it/s]\n",
      "current loss:0.7334483861923218:   2%|▏         | 2/100 [00:00<00:07, 12.63it/s]"
     ]
    },
    {
     "name": "stdout",
     "output_type": "stream",
     "text": [
      "10 0.5584999918937683\n"
     ]
    },
    {
     "name": "stderr",
     "output_type": "stream",
     "text": [
      "current loss:0.8570845723152161: 100%|██████████| 100/100 [00:07<00:00, 13.99it/s]\n",
      "current loss:0.7112316489219666:   2%|▏         | 2/100 [00:00<00:07, 12.94it/s]"
     ]
    },
    {
     "name": "stdout",
     "output_type": "stream",
     "text": [
      "11 0.5586000084877014\n"
     ]
    },
    {
     "name": "stderr",
     "output_type": "stream",
     "text": [
      "current loss:0.8365918397903442: 100%|██████████| 100/100 [00:07<00:00, 13.89it/s]\n",
      "current loss:0.6946913003921509:   2%|▏         | 2/100 [00:00<00:07, 13.26it/s]"
     ]
    },
    {
     "name": "stdout",
     "output_type": "stream",
     "text": [
      "12 0.5580999851226807\n"
     ]
    },
    {
     "name": "stderr",
     "output_type": "stream",
     "text": [
      "current loss:0.8178728222846985: 100%|██████████| 100/100 [00:07<00:00, 13.89it/s]\n",
      "current loss:0.67386794090271:   2%|▏         | 2/100 [00:00<00:07, 13.10it/s]"
     ]
    },
    {
     "name": "stdout",
     "output_type": "stream",
     "text": [
      "13 0.5654000043869019\n"
     ]
    },
    {
     "name": "stderr",
     "output_type": "stream",
     "text": [
      "current loss:0.8006671071052551: 100%|██████████| 100/100 [00:07<00:00, 13.90it/s]\n",
      "current loss:0.6623833775520325:   2%|▏         | 2/100 [00:00<00:07, 12.81it/s]"
     ]
    },
    {
     "name": "stdout",
     "output_type": "stream",
     "text": [
      "14 0.5669000148773193\n"
     ]
    },
    {
     "name": "stderr",
     "output_type": "stream",
     "text": [
      "current loss:0.7867441773414612: 100%|██████████| 100/100 [00:07<00:00, 13.87it/s]\n",
      "current loss:0.651323139667511:   2%|▏         | 2/100 [00:00<00:07, 13.10it/s]"
     ]
    },
    {
     "name": "stdout",
     "output_type": "stream",
     "text": [
      "15 0.5687999725341797\n"
     ]
    },
    {
     "name": "stderr",
     "output_type": "stream",
     "text": [
      "current loss:0.771530032157898: 100%|██████████| 100/100 [00:07<00:00, 13.97it/s]\n",
      "current loss:0.6368882656097412:   2%|▏         | 2/100 [00:00<00:07, 12.53it/s]"
     ]
    },
    {
     "name": "stdout",
     "output_type": "stream",
     "text": [
      "16 0.5684999823570251\n"
     ]
    },
    {
     "name": "stderr",
     "output_type": "stream",
     "text": [
      "current loss:0.7584603428840637: 100%|██████████| 100/100 [00:07<00:00, 13.90it/s]\n",
      "current loss:0.6254451274871826:   2%|▏         | 2/100 [00:00<00:07, 13.04it/s]"
     ]
    },
    {
     "name": "stdout",
     "output_type": "stream",
     "text": [
      "17 0.5674999952316284\n"
     ]
    },
    {
     "name": "stderr",
     "output_type": "stream",
     "text": [
      "current loss:0.7480438947677612: 100%|██████████| 100/100 [00:07<00:00, 13.69it/s]\n",
      "current loss:0.6189881563186646:   2%|▏         | 2/100 [00:00<00:07, 13.18it/s]"
     ]
    },
    {
     "name": "stdout",
     "output_type": "stream",
     "text": [
      "18 0.5676000118255615\n"
     ]
    },
    {
     "name": "stderr",
     "output_type": "stream",
     "text": [
      "current loss:0.7360798120498657: 100%|██████████| 100/100 [00:07<00:00, 13.50it/s]\n",
      "current loss:0.6110802888870239:   2%|▏         | 2/100 [00:00<00:07, 13.21it/s]"
     ]
    },
    {
     "name": "stdout",
     "output_type": "stream",
     "text": [
      "19 0.5622000098228455\n"
     ]
    },
    {
     "name": "stderr",
     "output_type": "stream",
     "text": [
      "current loss:0.7255446910858154: 100%|██████████| 100/100 [00:07<00:00, 13.95it/s]\n",
      "current loss:0.6047539710998535:   2%|▏         | 2/100 [00:00<00:07, 12.98it/s]"
     ]
    },
    {
     "name": "stdout",
     "output_type": "stream",
     "text": [
      "20 0.558899998664856\n"
     ]
    },
    {
     "name": "stderr",
     "output_type": "stream",
     "text": [
      "current loss:0.7121371030807495: 100%|██████████| 100/100 [00:07<00:00, 13.88it/s]\n",
      "current loss:0.6037348508834839:   2%|▏         | 2/100 [00:00<00:07, 12.99it/s]"
     ]
    },
    {
     "name": "stdout",
     "output_type": "stream",
     "text": [
      "21 0.5566999912261963\n"
     ]
    },
    {
     "name": "stderr",
     "output_type": "stream",
     "text": [
      "current loss:0.6979795694351196: 100%|██████████| 100/100 [00:07<00:00, 13.78it/s]\n",
      "current loss:0.585663914680481:   2%|▏         | 2/100 [00:00<00:07, 13.42it/s]"
     ]
    },
    {
     "name": "stdout",
     "output_type": "stream",
     "text": [
      "22 0.5561000108718872\n"
     ]
    },
    {
     "name": "stderr",
     "output_type": "stream",
     "text": [
      "current loss:0.6812871694564819: 100%|██████████| 100/100 [00:07<00:00, 13.87it/s]\n",
      "current loss:0.5683373212814331:   2%|▏         | 2/100 [00:00<00:07, 13.01it/s]"
     ]
    },
    {
     "name": "stdout",
     "output_type": "stream",
     "text": [
      "23 0.5598999857902527\n"
     ]
    },
    {
     "name": "stderr",
     "output_type": "stream",
     "text": [
      "current loss:0.6710801124572754: 100%|██████████| 100/100 [00:07<00:00, 14.01it/s]\n"
     ]
    },
    {
     "name": "stdout",
     "output_type": "stream",
     "text": [
      "24 0.5616000294685364\n"
     ]
    }
   ],
   "source": [
    "student = Cifar_Very_Tiny(10).cpu()\n",
    "teacher = Cifar_Tiny(10).cpu()    # teacher = ResNet18(10).cpu()\n",
    "#scheduler = torch.optim.lr_scheduler.StepLR(optim, step_size=10, gamma=0.5)   \n",
    "mu_feat = nn.Linear(128, 64).cpu()\n",
    "log_sigma_feat = torch.nn.Parameter(torch.zeros(1).cpu())\n",
    "optim = torch.optim.Adam(list(student.parameters()) + list(mu_feat.parameters()) + [log_sigma_feat])    \n",
    "\n",
    "crit = nn.CrossEntropyLoss()\n",
    "\n",
    "for e in range(25):\n",
    "    tq = tqdm.tqdm(train_loader_no_augumentation)\n",
    "    losses = []\n",
    "            \n",
    "    for batch_id, (x,y) in enumerate(tq):\n",
    "        x = x.to(device)\n",
    "        y = y.to(device)\n",
    "        optim.zero_grad()\n",
    "        student_feat, student_logits = student.get_features(x, [3,4])\n",
    "        teacher_feat, teacher_logits = teacher.get_features(x, [3,4])\n",
    "        class_loss = crit(student_logits, y)\n",
    "        sigma2 = torch.log(1+torch.exp(log_sigma_feat))\n",
    "        feat_loss = ((mu_feat(teacher_feat) - student_feat)**2).sum(1).mean()/sigma2 + torch.log(sigma2)*np.prod(teacher_feat.shape[1:])\n",
    "        loss = class_loss * 0.9# + feat_loss * 0.1\n",
    "        \n",
    "        loss.backward()\n",
    "        optim.step()\n",
    "        losses.append(loss.detach().cpu().numpy())\n",
    "        tq.set_description('current loss:{}'.format(np.mean(losses[-10:])))      \n",
    "    student.eval()\n",
    "    ac = float(accuracy(student, test_loader))\n",
    "    print(e, ac)\n",
    "    student.train()\n",
    "    with open('../logs/acc_naive_'+experiment_version+'.txt','a') as out:\n",
    "        out.write('{}: {}\\n'.format(e, ac))"
   ]
  },
  {
   "cell_type": "code",
   "execution_count": 7,
   "metadata": {
    "ExecuteTime": {
     "end_time": "2022-03-24T21:37:18.922716Z",
     "start_time": "2022-03-24T21:37:17.579273Z"
    }
   },
   "outputs": [
    {
     "name": "stdout",
     "output_type": "stream",
     "text": [
      "--2022-03-25 00:37:17--  https://github.com/passalis/pkth/blob/master/cifar10/models/tiny_cifar10.model?raw=true\n",
      "Распознаётся github.com (github.com)… 140.82.121.4\n",
      "Подключение к github.com (github.com)|140.82.121.4|:443... соединение установлено.\n",
      "HTTP-запрос отправлен. Ожидание ответа… 302 Found\n",
      "Адрес: https://github.com/passalis/pkth/raw/master/cifar10/models/tiny_cifar10.model [переход]\n",
      "--2022-03-25 00:37:18--  https://github.com/passalis/pkth/raw/master/cifar10/models/tiny_cifar10.model\n",
      "Повторное использование соединения с github.com:443.\n",
      "HTTP-запрос отправлен. Ожидание ответа… 302 Found\n",
      "Адрес: https://raw.githubusercontent.com/passalis/pkth/master/cifar10/models/tiny_cifar10.model [переход]\n",
      "--2022-03-25 00:37:18--  https://raw.githubusercontent.com/passalis/pkth/master/cifar10/models/tiny_cifar10.model\n",
      "Распознаётся raw.githubusercontent.com (raw.githubusercontent.com)… 185.199.108.133, 185.199.110.133, 185.199.109.133, ...\n",
      "Подключение к raw.githubusercontent.com (raw.githubusercontent.com)|185.199.108.133|:443... соединение установлено.\n",
      "HTTP-запрос отправлен. Ожидание ответа… 200 OK\n",
      "Длина: 236259 (231K) [application/octet-stream]\n",
      "Сохранение в: «tiny_cifar10.model?raw=true»\n",
      "\n",
      "tiny_cifar10.model? 100%[===================>] 230,72K   950KB/s    за 0,2s    \n",
      "\n",
      "2022-03-25 00:37:18 (950 KB/s) - «tiny_cifar10.model?raw=true» сохранён [236259/236259]\n",
      "\n"
     ]
    }
   ],
   "source": [
    "!wget \"https://github.com/passalis/pkth/blob/master/cifar10/models/tiny_cifar10.model?raw=true\""
   ]
  },
  {
   "cell_type": "code",
   "execution_count": 8,
   "metadata": {
    "ExecuteTime": {
     "end_time": "2022-03-24T22:29:36.273385Z",
     "start_time": "2022-03-24T21:37:25.090907Z"
    },
    "scrolled": true
   },
   "outputs": [
    {
     "name": "stderr",
     "output_type": "stream",
     "text": [
      "current loss:1.6034910678863525: 100%|██████████| 100/100 [00:09<00:00, 10.42it/s]\n",
      "current loss:1.6468515396118164:   1%|          | 1/100 [00:00<00:10,  9.03it/s]"
     ]
    },
    {
     "name": "stdout",
     "output_type": "stream",
     "text": [
      "0 0.42340001463890076\n"
     ]
    },
    {
     "name": "stderr",
     "output_type": "stream",
     "text": [
      "current loss:1.4099317789077759: 100%|██████████| 100/100 [00:09<00:00, 10.44it/s]\n",
      "current loss:1.3939635753631592:   1%|          | 1/100 [00:00<00:10,  9.36it/s]"
     ]
    },
    {
     "name": "stdout",
     "output_type": "stream",
     "text": [
      "1 0.47609999775886536\n"
     ]
    },
    {
     "name": "stderr",
     "output_type": "stream",
     "text": [
      "current loss:1.304530382156372: 100%|██████████| 100/100 [00:09<00:00, 10.27it/s]\n",
      "current loss:1.2895413637161255:   1%|          | 1/100 [00:00<00:10,  9.14it/s]"
     ]
    },
    {
     "name": "stdout",
     "output_type": "stream",
     "text": [
      "2 0.49570000171661377\n"
     ]
    },
    {
     "name": "stderr",
     "output_type": "stream",
     "text": [
      "current loss:1.2338356971740723: 100%|██████████| 100/100 [00:09<00:00, 10.20it/s]\n",
      "current loss:1.2075591087341309:   1%|          | 1/100 [00:00<00:10,  9.29it/s]"
     ]
    },
    {
     "name": "stdout",
     "output_type": "stream",
     "text": [
      "3 0.5109000205993652\n"
     ]
    },
    {
     "name": "stderr",
     "output_type": "stream",
     "text": [
      "current loss:1.176953673362732: 100%|██████████| 100/100 [00:09<00:00, 10.16it/s]\n",
      "current loss:1.1328452825546265:   1%|          | 1/100 [00:00<00:10,  9.14it/s]"
     ]
    },
    {
     "name": "stdout",
     "output_type": "stream",
     "text": [
      "4 0.5164999961853027\n"
     ]
    },
    {
     "name": "stderr",
     "output_type": "stream",
     "text": [
      "current loss:1.1296319961547852: 100%|██████████| 100/100 [00:09<00:00, 10.27it/s]\n",
      "current loss:1.0757273435592651:   1%|          | 1/100 [00:00<00:10,  9.43it/s]"
     ]
    },
    {
     "name": "stdout",
     "output_type": "stream",
     "text": [
      "5 0.5234000086784363\n"
     ]
    },
    {
     "name": "stderr",
     "output_type": "stream",
     "text": [
      "current loss:1.0883105993270874: 100%|██████████| 100/100 [00:09<00:00, 10.19it/s]\n",
      "current loss:1.022861361503601:   1%|          | 1/100 [00:00<00:10,  9.26it/s]"
     ]
    },
    {
     "name": "stdout",
     "output_type": "stream",
     "text": [
      "6 0.5328999757766724\n"
     ]
    },
    {
     "name": "stderr",
     "output_type": "stream",
     "text": [
      "current loss:1.0544121265411377: 100%|██████████| 100/100 [00:09<00:00, 10.26it/s]\n",
      "current loss:0.9710783362388611:   1%|          | 1/100 [00:00<00:10,  9.09it/s]"
     ]
    },
    {
     "name": "stdout",
     "output_type": "stream",
     "text": [
      "7 0.5357999801635742\n"
     ]
    },
    {
     "name": "stderr",
     "output_type": "stream",
     "text": [
      "current loss:1.0250029563903809: 100%|██████████| 100/100 [00:09<00:00, 10.19it/s]\n",
      "current loss:0.9344011545181274:   1%|          | 1/100 [00:00<00:10,  9.58it/s]"
     ]
    },
    {
     "name": "stdout",
     "output_type": "stream",
     "text": [
      "8 0.536899983882904\n"
     ]
    },
    {
     "name": "stderr",
     "output_type": "stream",
     "text": [
      "current loss:0.9962857961654663: 100%|██████████| 100/100 [00:09<00:00, 10.49it/s]\n",
      "current loss:0.9045060873031616:   1%|          | 1/100 [00:00<00:10,  9.38it/s]"
     ]
    },
    {
     "name": "stdout",
     "output_type": "stream",
     "text": [
      "9 0.5378000140190125\n"
     ]
    },
    {
     "name": "stderr",
     "output_type": "stream",
     "text": [
      "current loss:0.9699698686599731: 100%|██████████| 100/100 [00:09<00:00, 10.37it/s]\n",
      "current loss:0.8724483251571655:   1%|          | 1/100 [00:00<00:10,  9.06it/s]"
     ]
    },
    {
     "name": "stdout",
     "output_type": "stream",
     "text": [
      "10 0.5410000085830688\n"
     ]
    },
    {
     "name": "stderr",
     "output_type": "stream",
     "text": [
      "current loss:0.9418545961380005: 100%|██████████| 100/100 [00:09<00:00, 10.27it/s]\n",
      "current loss:0.850023090839386:   1%|          | 1/100 [00:00<00:10,  9.41it/s]"
     ]
    },
    {
     "name": "stdout",
     "output_type": "stream",
     "text": [
      "11 0.5429999828338623\n"
     ]
    },
    {
     "name": "stderr",
     "output_type": "stream",
     "text": [
      "current loss:0.9185616374015808: 100%|██████████| 100/100 [00:09<00:00, 10.33it/s]\n",
      "current loss:0.8170853853225708:   1%|          | 1/100 [00:00<00:10,  9.29it/s]"
     ]
    },
    {
     "name": "stdout",
     "output_type": "stream",
     "text": [
      "12 0.5421000123023987\n"
     ]
    },
    {
     "name": "stderr",
     "output_type": "stream",
     "text": [
      "current loss:0.8972846865653992: 100%|██████████| 100/100 [00:09<00:00, 10.30it/s]\n",
      "current loss:0.7940247654914856:   1%|          | 1/100 [00:00<00:10,  9.20it/s]"
     ]
    },
    {
     "name": "stdout",
     "output_type": "stream",
     "text": [
      "13 0.5444999933242798\n"
     ]
    },
    {
     "name": "stderr",
     "output_type": "stream",
     "text": [
      "current loss:0.8827516436576843: 100%|██████████| 100/100 [00:09<00:00, 10.36it/s]\n",
      "current loss:0.784217894077301:   1%|          | 1/100 [00:00<00:10,  9.52it/s]"
     ]
    },
    {
     "name": "stdout",
     "output_type": "stream",
     "text": [
      "14 0.546999990940094\n"
     ]
    },
    {
     "name": "stderr",
     "output_type": "stream",
     "text": [
      "current loss:0.865678608417511: 100%|██████████| 100/100 [00:09<00:00, 10.34it/s]\n",
      "current loss:0.7776188254356384:   1%|          | 1/100 [00:00<00:10,  9.52it/s]"
     ]
    },
    {
     "name": "stdout",
     "output_type": "stream",
     "text": [
      "15 0.5498999953269958\n"
     ]
    },
    {
     "name": "stderr",
     "output_type": "stream",
     "text": [
      "current loss:0.8495455980300903: 100%|██████████| 100/100 [00:10<00:00,  9.87it/s]\n",
      "current loss:0.7513241171836853:   1%|          | 1/100 [00:00<00:10,  9.48it/s]"
     ]
    },
    {
     "name": "stdout",
     "output_type": "stream",
     "text": [
      "16 0.5569000244140625\n"
     ]
    },
    {
     "name": "stderr",
     "output_type": "stream",
     "text": [
      "current loss:0.8335773348808289: 100%|██████████| 100/100 [00:10<00:00,  9.95it/s]\n",
      "current loss:0.7416008114814758:   1%|          | 1/100 [00:00<00:11,  8.62it/s]"
     ]
    },
    {
     "name": "stdout",
     "output_type": "stream",
     "text": [
      "17 0.5566999912261963\n"
     ]
    },
    {
     "name": "stderr",
     "output_type": "stream",
     "text": [
      "current loss:0.8181989789009094: 100%|██████████| 100/100 [00:10<00:00,  9.84it/s]\n",
      "current loss:0.726120114326477:   1%|          | 1/100 [00:00<00:10,  9.32it/s]"
     ]
    },
    {
     "name": "stdout",
     "output_type": "stream",
     "text": [
      "18 0.5552999973297119\n"
     ]
    },
    {
     "name": "stderr",
     "output_type": "stream",
     "text": [
      "current loss:0.8015839457511902: 100%|██████████| 100/100 [00:10<00:00,  9.81it/s]\n",
      "current loss:0.7040578126907349:   1%|          | 1/100 [00:00<00:10,  9.02it/s]"
     ]
    },
    {
     "name": "stdout",
     "output_type": "stream",
     "text": [
      "19 0.5569000244140625\n"
     ]
    },
    {
     "name": "stderr",
     "output_type": "stream",
     "text": [
      "current loss:0.7879050970077515: 100%|██████████| 100/100 [00:09<00:00, 10.20it/s]\n",
      "current loss:0.6938878297805786:   1%|          | 1/100 [00:00<00:10,  9.25it/s]"
     ]
    },
    {
     "name": "stdout",
     "output_type": "stream",
     "text": [
      "20 0.5547999739646912\n"
     ]
    },
    {
     "name": "stderr",
     "output_type": "stream",
     "text": [
      "current loss:0.7744271755218506: 100%|██████████| 100/100 [00:09<00:00, 10.33it/s]\n",
      "current loss:0.6744919419288635:   1%|          | 1/100 [00:00<00:10,  9.14it/s]"
     ]
    },
    {
     "name": "stdout",
     "output_type": "stream",
     "text": [
      "21 0.5512999892234802\n"
     ]
    },
    {
     "name": "stderr",
     "output_type": "stream",
     "text": [
      "current loss:0.7635998129844666: 100%|██████████| 100/100 [00:09<00:00, 10.34it/s]\n",
      "current loss:0.6600759625434875:   1%|          | 1/100 [00:00<00:10,  9.29it/s]"
     ]
    },
    {
     "name": "stdout",
     "output_type": "stream",
     "text": [
      "22 0.5507000088691711\n"
     ]
    },
    {
     "name": "stderr",
     "output_type": "stream",
     "text": [
      "current loss:0.751061737537384: 100%|██████████| 100/100 [00:09<00:00, 10.31it/s]\n",
      "current loss:0.6530033946037292:   1%|          | 1/100 [00:00<00:10,  9.26it/s]"
     ]
    },
    {
     "name": "stdout",
     "output_type": "stream",
     "text": [
      "23 0.5512999892234802\n"
     ]
    },
    {
     "name": "stderr",
     "output_type": "stream",
     "text": [
      "current loss:0.7337863445281982: 100%|██████████| 100/100 [00:09<00:00, 10.07it/s]\n",
      "current loss:2.365229368209839:   1%|          | 1/100 [00:00<00:10,  9.05it/s]"
     ]
    },
    {
     "name": "stdout",
     "output_type": "stream",
     "text": [
      "24 0.5501000285148621\n"
     ]
    },
    {
     "name": "stderr",
     "output_type": "stream",
     "text": [
      "current loss:1.609437346458435: 100%|██████████| 100/100 [00:09<00:00, 10.22it/s]\n",
      "current loss:1.5851750373840332:   1%|          | 1/100 [00:00<00:11,  8.67it/s]"
     ]
    },
    {
     "name": "stdout",
     "output_type": "stream",
     "text": [
      "0 0.4090000092983246\n"
     ]
    },
    {
     "name": "stderr",
     "output_type": "stream",
     "text": [
      "current loss:1.4209800958633423: 100%|██████████| 100/100 [00:09<00:00, 10.02it/s]\n",
      "current loss:1.3781760931015015:   1%|          | 1/100 [00:00<00:11,  8.77it/s]"
     ]
    },
    {
     "name": "stdout",
     "output_type": "stream",
     "text": [
      "1 0.47099998593330383\n"
     ]
    },
    {
     "name": "stderr",
     "output_type": "stream",
     "text": [
      "current loss:1.3198267221450806: 100%|██████████| 100/100 [00:09<00:00, 10.03it/s]\n",
      "current loss:1.255471110343933:   1%|          | 1/100 [00:00<00:11,  8.57it/s]"
     ]
    },
    {
     "name": "stdout",
     "output_type": "stream",
     "text": [
      "2 0.49799999594688416\n"
     ]
    },
    {
     "name": "stderr",
     "output_type": "stream",
     "text": [
      "current loss:1.2519142627716064: 100%|██████████| 100/100 [00:09<00:00, 10.01it/s]\n",
      "current loss:1.150338888168335:   1%|          | 1/100 [00:00<00:11,  8.71it/s]"
     ]
    },
    {
     "name": "stdout",
     "output_type": "stream",
     "text": [
      "3 0.5178999900817871\n"
     ]
    },
    {
     "name": "stderr",
     "output_type": "stream",
     "text": [
      "current loss:1.1986615657806396: 100%|██████████| 100/100 [00:10<00:00,  9.89it/s]\n",
      "current loss:1.0848429203033447:   1%|          | 1/100 [00:00<00:11,  8.82it/s]"
     ]
    },
    {
     "name": "stdout",
     "output_type": "stream",
     "text": [
      "4 0.5299999713897705\n"
     ]
    },
    {
     "name": "stderr",
     "output_type": "stream",
     "text": [
      "current loss:1.1529237031936646: 100%|██████████| 100/100 [00:10<00:00,  9.98it/s]\n",
      "current loss:1.0172861814498901:   1%|          | 1/100 [00:00<00:11,  8.72it/s]"
     ]
    },
    {
     "name": "stdout",
     "output_type": "stream",
     "text": [
      "5 0.5350000262260437\n"
     ]
    },
    {
     "name": "stderr",
     "output_type": "stream",
     "text": [
      "current loss:1.1115190982818604: 100%|██████████| 100/100 [00:10<00:00,  9.75it/s]\n",
      "current loss:0.9667216539382935:   1%|          | 1/100 [00:00<00:11,  8.44it/s]"
     ]
    },
    {
     "name": "stdout",
     "output_type": "stream",
     "text": [
      "6 0.5446000099182129\n"
     ]
    },
    {
     "name": "stderr",
     "output_type": "stream",
     "text": [
      "current loss:1.0732282400131226: 100%|██████████| 100/100 [00:10<00:00,  9.74it/s]\n",
      "current loss:0.9237672090530396:   1%|          | 1/100 [00:00<00:11,  8.39it/s]"
     ]
    },
    {
     "name": "stdout",
     "output_type": "stream",
     "text": [
      "7 0.5516999959945679\n"
     ]
    },
    {
     "name": "stderr",
     "output_type": "stream",
     "text": [
      "current loss:1.0430961847305298: 100%|██████████| 100/100 [00:10<00:00,  9.77it/s]\n",
      "current loss:0.8990709185600281:   1%|          | 1/100 [00:00<00:11,  8.87it/s]"
     ]
    },
    {
     "name": "stdout",
     "output_type": "stream",
     "text": [
      "8 0.5554999709129333\n"
     ]
    },
    {
     "name": "stderr",
     "output_type": "stream",
     "text": [
      "current loss:1.0147172212600708: 100%|██████████| 100/100 [00:09<00:00, 10.06it/s]\n",
      "current loss:0.8720543384552002:   1%|          | 1/100 [00:00<00:10,  9.05it/s]"
     ]
    },
    {
     "name": "stdout",
     "output_type": "stream",
     "text": [
      "9 0.5613999962806702\n"
     ]
    },
    {
     "name": "stderr",
     "output_type": "stream",
     "text": [
      "current loss:0.9896999597549438: 100%|██████████| 100/100 [00:09<00:00, 10.10it/s]\n",
      "current loss:0.8435720801353455:   1%|          | 1/100 [00:00<00:10,  9.28it/s]"
     ]
    },
    {
     "name": "stdout",
     "output_type": "stream",
     "text": [
      "10 0.5601999759674072\n"
     ]
    },
    {
     "name": "stderr",
     "output_type": "stream",
     "text": [
      "current loss:0.9658448100090027: 100%|██████████| 100/100 [00:09<00:00, 10.29it/s]\n",
      "current loss:0.8145880103111267:   1%|          | 1/100 [00:00<00:11,  8.99it/s]"
     ]
    },
    {
     "name": "stdout",
     "output_type": "stream",
     "text": [
      "11 0.5631999969482422\n"
     ]
    },
    {
     "name": "stderr",
     "output_type": "stream",
     "text": [
      "current loss:0.9407259821891785: 100%|██████████| 100/100 [00:09<00:00, 10.22it/s]\n",
      "current loss:0.7924824357032776:   1%|          | 1/100 [00:00<00:11,  8.88it/s]"
     ]
    },
    {
     "name": "stdout",
     "output_type": "stream",
     "text": [
      "12 0.5677000284194946\n"
     ]
    },
    {
     "name": "stderr",
     "output_type": "stream",
     "text": [
      "current loss:0.920728862285614: 100%|██████████| 100/100 [00:11<00:00,  9.07it/s]\n",
      "current loss:0.7687509655952454:   1%|          | 1/100 [00:00<00:11,  8.26it/s]"
     ]
    },
    {
     "name": "stdout",
     "output_type": "stream",
     "text": [
      "13 0.569100022315979\n"
     ]
    },
    {
     "name": "stderr",
     "output_type": "stream",
     "text": [
      "current loss:0.9016788601875305: 100%|██████████| 100/100 [00:10<00:00,  9.21it/s]\n",
      "current loss:0.747303307056427:   1%|          | 1/100 [00:00<00:11,  8.53it/s]"
     ]
    },
    {
     "name": "stdout",
     "output_type": "stream",
     "text": [
      "14 0.5684999823570251\n"
     ]
    },
    {
     "name": "stderr",
     "output_type": "stream",
     "text": [
      "current loss:0.8868628740310669: 100%|██████████| 100/100 [00:11<00:00,  9.01it/s]\n",
      "current loss:0.7337961196899414:   1%|          | 1/100 [00:00<00:14,  6.64it/s]"
     ]
    },
    {
     "name": "stdout",
     "output_type": "stream",
     "text": [
      "15 0.5654000043869019\n"
     ]
    },
    {
     "name": "stderr",
     "output_type": "stream",
     "text": [
      "current loss:0.8720723390579224: 100%|██████████| 100/100 [00:12<00:00,  8.23it/s]\n",
      "current loss:0.719244658946991:   1%|          | 1/100 [00:00<00:11,  8.77it/s]"
     ]
    },
    {
     "name": "stdout",
     "output_type": "stream",
     "text": [
      "16 0.5618000030517578\n"
     ]
    },
    {
     "name": "stderr",
     "output_type": "stream",
     "text": [
      "current loss:0.855233371257782: 100%|██████████| 100/100 [00:12<00:00,  8.22it/s]\n",
      "current loss:0.7014654874801636:   1%|          | 1/100 [00:00<00:12,  8.02it/s]"
     ]
    },
    {
     "name": "stdout",
     "output_type": "stream",
     "text": [
      "17 0.5602999925613403\n"
     ]
    },
    {
     "name": "stderr",
     "output_type": "stream",
     "text": [
      "current loss:0.8439353704452515: 100%|██████████| 100/100 [00:11<00:00,  8.76it/s]\n",
      "current loss:0.6861785650253296:   1%|          | 1/100 [00:00<00:11,  8.79it/s]"
     ]
    },
    {
     "name": "stdout",
     "output_type": "stream",
     "text": [
      "18 0.5569999814033508\n"
     ]
    },
    {
     "name": "stderr",
     "output_type": "stream",
     "text": [
      "current loss:0.828201413154602: 100%|██████████| 100/100 [00:10<00:00,  9.13it/s]\n",
      "current loss:0.6615229249000549:   1%|          | 1/100 [00:00<00:12,  8.04it/s]"
     ]
    },
    {
     "name": "stdout",
     "output_type": "stream",
     "text": [
      "19 0.5555999875068665\n"
     ]
    },
    {
     "name": "stderr",
     "output_type": "stream",
     "text": [
      "current loss:0.8133792877197266: 100%|██████████| 100/100 [00:11<00:00,  8.91it/s]\n",
      "current loss:0.6456042528152466:   1%|          | 1/100 [00:00<00:11,  8.43it/s]"
     ]
    },
    {
     "name": "stdout",
     "output_type": "stream",
     "text": [
      "20 0.5548999905586243\n"
     ]
    },
    {
     "name": "stderr",
     "output_type": "stream",
     "text": [
      "current loss:0.8027955889701843: 100%|██████████| 100/100 [00:10<00:00,  9.33it/s]\n",
      "current loss:0.6280951499938965:   1%|          | 1/100 [00:00<00:11,  8.36it/s]"
     ]
    },
    {
     "name": "stdout",
     "output_type": "stream",
     "text": [
      "21 0.5551999807357788\n"
     ]
    },
    {
     "name": "stderr",
     "output_type": "stream",
     "text": [
      "current loss:0.7906802892684937: 100%|██████████| 100/100 [00:10<00:00,  9.76it/s]\n",
      "current loss:0.6118118762969971:   1%|          | 1/100 [00:00<00:11,  8.64it/s]"
     ]
    },
    {
     "name": "stdout",
     "output_type": "stream",
     "text": [
      "22 0.5546000003814697\n"
     ]
    },
    {
     "name": "stderr",
     "output_type": "stream",
     "text": [
      "current loss:0.7744661569595337: 100%|██████████| 100/100 [00:10<00:00,  9.61it/s]\n",
      "current loss:0.6033750176429749:   1%|          | 1/100 [00:00<00:11,  8.37it/s]"
     ]
    },
    {
     "name": "stdout",
     "output_type": "stream",
     "text": [
      "23 0.5550000071525574\n"
     ]
    },
    {
     "name": "stderr",
     "output_type": "stream",
     "text": [
      "current loss:0.7640737295150757: 100%|██████████| 100/100 [00:11<00:00,  8.74it/s]\n",
      "current loss:2.333857536315918:   1%|          | 1/100 [00:00<00:11,  8.32it/s]"
     ]
    },
    {
     "name": "stdout",
     "output_type": "stream",
     "text": [
      "24 0.5548999905586243\n"
     ]
    },
    {
     "name": "stderr",
     "output_type": "stream",
     "text": [
      "current loss:1.6244544982910156: 100%|██████████| 100/100 [00:10<00:00,  9.28it/s]\n",
      "current loss:1.5822651386260986:   1%|          | 1/100 [00:00<00:12,  7.97it/s]"
     ]
    },
    {
     "name": "stdout",
     "output_type": "stream",
     "text": [
      "0 0.41350001096725464\n"
     ]
    },
    {
     "name": "stderr",
     "output_type": "stream",
     "text": [
      "current loss:1.435808539390564: 100%|██████████| 100/100 [00:10<00:00,  9.47it/s]\n",
      "current loss:1.3702014684677124:   1%|          | 1/100 [00:00<00:11,  8.47it/s]"
     ]
    },
    {
     "name": "stdout",
     "output_type": "stream",
     "text": [
      "1 0.4625999927520752\n"
     ]
    },
    {
     "name": "stderr",
     "output_type": "stream",
     "text": [
      "current loss:1.3378784656524658: 100%|██████████| 100/100 [00:10<00:00,  9.39it/s]\n",
      "current loss:1.2319245338439941:   1%|          | 1/100 [00:00<00:11,  8.70it/s]"
     ]
    },
    {
     "name": "stdout",
     "output_type": "stream",
     "text": [
      "2 0.48190000653266907\n"
     ]
    },
    {
     "name": "stderr",
     "output_type": "stream",
     "text": [
      "current loss:1.267248511314392: 100%|██████████| 100/100 [00:10<00:00,  9.40it/s]\n",
      "current loss:1.1269664764404297:   1%|          | 1/100 [00:00<00:11,  8.62it/s]"
     ]
    },
    {
     "name": "stdout",
     "output_type": "stream",
     "text": [
      "3 0.503000020980835\n"
     ]
    },
    {
     "name": "stderr",
     "output_type": "stream",
     "text": [
      "current loss:1.2051794528961182: 100%|██████████| 100/100 [00:10<00:00,  9.29it/s]\n",
      "current loss:1.0425132513046265:   1%|          | 1/100 [00:00<00:12,  7.80it/s]"
     ]
    },
    {
     "name": "stdout",
     "output_type": "stream",
     "text": [
      "4 0.5216000080108643\n"
     ]
    },
    {
     "name": "stderr",
     "output_type": "stream",
     "text": [
      "current loss:1.1582393646240234: 100%|██████████| 100/100 [00:11<00:00,  8.40it/s]\n",
      "current loss:0.9888718128204346:   1%|          | 1/100 [00:00<00:12,  7.96it/s]"
     ]
    },
    {
     "name": "stdout",
     "output_type": "stream",
     "text": [
      "5 0.5357999801635742\n"
     ]
    },
    {
     "name": "stderr",
     "output_type": "stream",
     "text": [
      "current loss:1.1174468994140625: 100%|██████████| 100/100 [00:20<00:00,  4.83it/s]\n",
      "  0%|          | 0/100 [00:00<?, ?it/s]"
     ]
    },
    {
     "name": "stdout",
     "output_type": "stream",
     "text": [
      "6 0.5444999933242798\n"
     ]
    },
    {
     "name": "stderr",
     "output_type": "stream",
     "text": [
      "current loss:1.0831174850463867: 100%|██████████| 100/100 [00:34<00:00,  2.94it/s]\n",
      "  0%|          | 0/100 [00:00<?, ?it/s]"
     ]
    },
    {
     "name": "stdout",
     "output_type": "stream",
     "text": [
      "7 0.5468999743461609\n"
     ]
    },
    {
     "name": "stderr",
     "output_type": "stream",
     "text": [
      "current loss:1.057037591934204: 100%|██████████| 100/100 [00:18<00:00,  5.31it/s]\n",
      "current loss:0.9149447083473206:   1%|          | 1/100 [00:00<00:16,  6.08it/s]"
     ]
    },
    {
     "name": "stdout",
     "output_type": "stream",
     "text": [
      "8 0.5515999794006348\n"
     ]
    },
    {
     "name": "stderr",
     "output_type": "stream",
     "text": [
      "current loss:1.0278761386871338: 100%|██████████| 100/100 [00:12<00:00,  7.70it/s]\n",
      "current loss:0.8836966156959534:   1%|          | 1/100 [00:00<00:13,  7.60it/s]"
     ]
    },
    {
     "name": "stdout",
     "output_type": "stream",
     "text": [
      "9 0.5601999759674072\n"
     ]
    },
    {
     "name": "stderr",
     "output_type": "stream",
     "text": [
      "current loss:1.0039767026901245: 100%|██████████| 100/100 [00:12<00:00,  8.13it/s]\n",
      "current loss:0.8566761612892151:   1%|          | 1/100 [00:00<00:12,  7.84it/s]"
     ]
    },
    {
     "name": "stdout",
     "output_type": "stream",
     "text": [
      "10 0.5658000111579895\n"
     ]
    },
    {
     "name": "stderr",
     "output_type": "stream",
     "text": [
      "current loss:0.9808738827705383: 100%|██████████| 100/100 [00:12<00:00,  7.96it/s]\n",
      "current loss:0.8369999527931213:   1%|          | 1/100 [00:00<00:12,  7.70it/s]"
     ]
    },
    {
     "name": "stdout",
     "output_type": "stream",
     "text": [
      "11 0.5669000148773193\n"
     ]
    },
    {
     "name": "stderr",
     "output_type": "stream",
     "text": [
      "current loss:0.9536032676696777: 100%|██████████| 100/100 [00:17<00:00,  5.57it/s]\n",
      "current loss:0.8118513822555542:   1%|          | 1/100 [00:00<00:16,  5.94it/s]"
     ]
    },
    {
     "name": "stdout",
     "output_type": "stream",
     "text": [
      "12 0.5690000057220459\n"
     ]
    },
    {
     "name": "stderr",
     "output_type": "stream",
     "text": [
      "current loss:0.9269895553588867: 100%|██████████| 100/100 [00:15<00:00,  6.65it/s]\n",
      "current loss:0.7893187403678894:   1%|          | 1/100 [00:00<00:13,  7.30it/s]"
     ]
    },
    {
     "name": "stdout",
     "output_type": "stream",
     "text": [
      "13 0.567300021648407\n"
     ]
    },
    {
     "name": "stderr",
     "output_type": "stream",
     "text": [
      "current loss:0.9071704149246216: 100%|██████████| 100/100 [00:14<00:00,  6.75it/s]\n",
      "current loss:0.7742751240730286:   1%|          | 1/100 [00:00<00:12,  7.92it/s]"
     ]
    },
    {
     "name": "stdout",
     "output_type": "stream",
     "text": [
      "14 0.5677000284194946\n"
     ]
    },
    {
     "name": "stderr",
     "output_type": "stream",
     "text": [
      "current loss:0.8910232782363892: 100%|██████████| 100/100 [00:11<00:00,  8.43it/s]\n",
      "current loss:0.7684154510498047:   1%|          | 1/100 [00:00<00:14,  6.94it/s]"
     ]
    },
    {
     "name": "stdout",
     "output_type": "stream",
     "text": [
      "15 0.5684999823570251\n"
     ]
    },
    {
     "name": "stderr",
     "output_type": "stream",
     "text": [
      "current loss:0.8663092851638794: 100%|██████████| 100/100 [00:11<00:00,  8.47it/s]\n",
      "current loss:0.756191074848175:   1%|          | 1/100 [00:00<00:12,  8.15it/s]"
     ]
    },
    {
     "name": "stdout",
     "output_type": "stream",
     "text": [
      "16 0.5685999989509583\n"
     ]
    },
    {
     "name": "stderr",
     "output_type": "stream",
     "text": [
      "current loss:0.8527803421020508: 100%|██████████| 100/100 [00:11<00:00,  9.01it/s]\n",
      "current loss:0.7447925209999084:   1%|          | 1/100 [00:00<00:12,  7.93it/s]"
     ]
    },
    {
     "name": "stdout",
     "output_type": "stream",
     "text": [
      "17 0.5649999976158142\n"
     ]
    },
    {
     "name": "stderr",
     "output_type": "stream",
     "text": [
      "current loss:0.8371130228042603: 100%|██████████| 100/100 [00:11<00:00,  9.03it/s]\n",
      "current loss:0.7444140315055847:   1%|          | 1/100 [00:00<00:12,  8.09it/s]"
     ]
    },
    {
     "name": "stdout",
     "output_type": "stream",
     "text": [
      "18 0.5633000135421753\n"
     ]
    },
    {
     "name": "stderr",
     "output_type": "stream",
     "text": [
      "current loss:0.822058379650116: 100%|██████████| 100/100 [00:11<00:00,  8.72it/s]\n",
      "current loss:0.7421157956123352:   1%|          | 1/100 [00:00<00:12,  8.14it/s]"
     ]
    },
    {
     "name": "stdout",
     "output_type": "stream",
     "text": [
      "19 0.5612999796867371\n"
     ]
    },
    {
     "name": "stderr",
     "output_type": "stream",
     "text": [
      "current loss:0.8068148493766785: 100%|██████████| 100/100 [00:11<00:00,  8.88it/s]\n",
      "current loss:0.743183970451355:   1%|          | 1/100 [00:00<00:11,  8.53it/s]"
     ]
    },
    {
     "name": "stdout",
     "output_type": "stream",
     "text": [
      "20 0.5595999956130981\n"
     ]
    },
    {
     "name": "stderr",
     "output_type": "stream",
     "text": [
      "current loss:0.7908614873886108: 100%|██████████| 100/100 [00:11<00:00,  8.93it/s]\n",
      "current loss:0.7407582998275757:   1%|          | 1/100 [00:00<00:12,  7.89it/s]"
     ]
    },
    {
     "name": "stdout",
     "output_type": "stream",
     "text": [
      "21 0.5598000288009644\n"
     ]
    },
    {
     "name": "stderr",
     "output_type": "stream",
     "text": [
      "current loss:0.7802261114120483: 100%|██████████| 100/100 [00:11<00:00,  8.64it/s]\n",
      "current loss:0.7406168580055237:   1%|          | 1/100 [00:00<00:12,  8.25it/s]"
     ]
    },
    {
     "name": "stdout",
     "output_type": "stream",
     "text": [
      "22 0.5548999905586243\n"
     ]
    },
    {
     "name": "stderr",
     "output_type": "stream",
     "text": [
      "current loss:0.7614716291427612: 100%|██████████| 100/100 [00:11<00:00,  8.66it/s]\n",
      "current loss:0.7350092530250549:   1%|          | 1/100 [00:00<00:12,  7.77it/s]"
     ]
    },
    {
     "name": "stdout",
     "output_type": "stream",
     "text": [
      "23 0.554099977016449\n"
     ]
    },
    {
     "name": "stderr",
     "output_type": "stream",
     "text": [
      "current loss:0.7439991235733032: 100%|██████████| 100/100 [00:13<00:00,  7.50it/s]\n",
      "current loss:2.3181731700897217:   1%|          | 1/100 [00:00<00:13,  7.20it/s]"
     ]
    },
    {
     "name": "stdout",
     "output_type": "stream",
     "text": [
      "24 0.5527999997138977\n"
     ]
    },
    {
     "name": "stderr",
     "output_type": "stream",
     "text": [
      "current loss:1.5909487009048462: 100%|██████████| 100/100 [00:13<00:00,  7.42it/s]\n",
      "current loss:1.5353200435638428:   1%|          | 1/100 [00:00<00:15,  6.37it/s]"
     ]
    },
    {
     "name": "stdout",
     "output_type": "stream",
     "text": [
      "0 0.41769999265670776\n"
     ]
    },
    {
     "name": "stderr",
     "output_type": "stream",
     "text": [
      "current loss:1.4019907712936401: 100%|██████████| 100/100 [00:12<00:00,  8.16it/s]\n",
      "current loss:1.3499135971069336:   1%|          | 1/100 [00:00<00:14,  6.74it/s]"
     ]
    },
    {
     "name": "stdout",
     "output_type": "stream",
     "text": [
      "1 0.49709999561309814\n"
     ]
    },
    {
     "name": "stderr",
     "output_type": "stream",
     "text": [
      "current loss:1.3125698566436768: 100%|██████████| 100/100 [00:13<00:00,  7.64it/s]\n",
      "current loss:1.2306221723556519:   1%|          | 1/100 [00:00<00:14,  7.01it/s]"
     ]
    },
    {
     "name": "stdout",
     "output_type": "stream",
     "text": [
      "2 0.5188999772071838\n"
     ]
    },
    {
     "name": "stderr",
     "output_type": "stream",
     "text": [
      "current loss:1.254431962966919: 100%|██████████| 100/100 [00:14<00:00,  6.88it/s]\n",
      "  0%|          | 0/100 [00:00<?, ?it/s]"
     ]
    },
    {
     "name": "stdout",
     "output_type": "stream",
     "text": [
      "3 0.5231999754905701\n"
     ]
    },
    {
     "name": "stderr",
     "output_type": "stream",
     "text": [
      "current loss:1.2064763307571411: 100%|██████████| 100/100 [00:13<00:00,  7.63it/s]\n",
      "current loss:1.0455149412155151:   1%|          | 1/100 [00:00<00:14,  6.88it/s]"
     ]
    },
    {
     "name": "stdout",
     "output_type": "stream",
     "text": [
      "4 0.5209000110626221\n"
     ]
    },
    {
     "name": "stderr",
     "output_type": "stream",
     "text": [
      "current loss:1.1577141284942627: 100%|██████████| 100/100 [00:13<00:00,  7.34it/s]\n",
      "current loss:0.9649094939231873:   1%|          | 1/100 [00:00<00:14,  6.99it/s]"
     ]
    },
    {
     "name": "stdout",
     "output_type": "stream",
     "text": [
      "5 0.5188999772071838\n"
     ]
    },
    {
     "name": "stderr",
     "output_type": "stream",
     "text": [
      "current loss:1.1145492792129517: 100%|██████████| 100/100 [00:15<00:00,  6.58it/s]\n",
      "  0%|          | 0/100 [00:00<?, ?it/s]"
     ]
    },
    {
     "name": "stdout",
     "output_type": "stream",
     "text": [
      "6 0.534600019454956\n"
     ]
    },
    {
     "name": "stderr",
     "output_type": "stream",
     "text": [
      "current loss:1.0762361288070679: 100%|██████████| 100/100 [00:14<00:00,  6.99it/s]\n",
      "current loss:0.8620009422302246:   1%|          | 1/100 [00:00<00:14,  7.07it/s]"
     ]
    },
    {
     "name": "stdout",
     "output_type": "stream",
     "text": [
      "7 0.5462999939918518\n"
     ]
    },
    {
     "name": "stderr",
     "output_type": "stream",
     "text": [
      "current loss:1.0437541007995605: 100%|██████████| 100/100 [00:14<00:00,  6.67it/s]\n",
      "current loss:0.8260765075683594:   1%|          | 1/100 [00:00<00:14,  6.68it/s]"
     ]
    },
    {
     "name": "stdout",
     "output_type": "stream",
     "text": [
      "8 0.5539000034332275\n"
     ]
    },
    {
     "name": "stderr",
     "output_type": "stream",
     "text": [
      "current loss:1.012197732925415: 100%|██████████| 100/100 [00:12<00:00,  7.85it/s]\n",
      "current loss:0.8014460206031799:   1%|          | 1/100 [00:00<00:14,  6.80it/s]"
     ]
    },
    {
     "name": "stdout",
     "output_type": "stream",
     "text": [
      "9 0.5533000230789185\n"
     ]
    },
    {
     "name": "stderr",
     "output_type": "stream",
     "text": [
      "current loss:0.9857121706008911: 100%|██████████| 100/100 [00:14<00:00,  6.68it/s]\n",
      "current loss:0.7723689079284668:   1%|          | 1/100 [00:00<00:17,  5.64it/s]"
     ]
    },
    {
     "name": "stdout",
     "output_type": "stream",
     "text": [
      "10 0.5569000244140625\n"
     ]
    },
    {
     "name": "stderr",
     "output_type": "stream",
     "text": [
      "current loss:0.966126561164856: 100%|██████████| 100/100 [00:13<00:00,  7.22it/s]\n",
      "current loss:0.74223393201828:   1%|          | 1/100 [00:00<00:12,  7.67it/s]"
     ]
    },
    {
     "name": "stdout",
     "output_type": "stream",
     "text": [
      "11 0.5561000108718872\n"
     ]
    },
    {
     "name": "stderr",
     "output_type": "stream",
     "text": [
      "current loss:0.9434071779251099: 100%|██████████| 100/100 [00:13<00:00,  7.64it/s]\n",
      "current loss:0.7275134921073914:   1%|          | 1/100 [00:00<00:13,  7.28it/s]"
     ]
    },
    {
     "name": "stdout",
     "output_type": "stream",
     "text": [
      "12 0.5616000294685364\n"
     ]
    },
    {
     "name": "stderr",
     "output_type": "stream",
     "text": [
      "current loss:0.9235102534294128: 100%|██████████| 100/100 [00:13<00:00,  7.63it/s]\n",
      "current loss:0.7104253768920898:   1%|          | 1/100 [00:00<00:11,  8.59it/s]"
     ]
    },
    {
     "name": "stdout",
     "output_type": "stream",
     "text": [
      "13 0.564300000667572\n"
     ]
    },
    {
     "name": "stderr",
     "output_type": "stream",
     "text": [
      "current loss:0.9046398997306824: 100%|██████████| 100/100 [00:15<00:00,  6.35it/s]\n",
      "current loss:0.6968069672584534:   1%|          | 1/100 [00:00<00:16,  5.84it/s]"
     ]
    },
    {
     "name": "stdout",
     "output_type": "stream",
     "text": [
      "14 0.5641999840736389\n"
     ]
    },
    {
     "name": "stderr",
     "output_type": "stream",
     "text": [
      "current loss:0.8898419141769409: 100%|██████████| 100/100 [00:16<00:00,  6.21it/s]\n",
      "current loss:0.6832237839698792:   1%|          | 1/100 [00:00<00:14,  7.02it/s]"
     ]
    },
    {
     "name": "stdout",
     "output_type": "stream",
     "text": [
      "15 0.5608000159263611\n"
     ]
    },
    {
     "name": "stderr",
     "output_type": "stream",
     "text": [
      "current loss:0.8720948100090027: 100%|██████████| 100/100 [00:13<00:00,  7.49it/s]\n",
      "current loss:0.679894745349884:   1%|          | 1/100 [00:00<00:15,  6.48it/s]"
     ]
    },
    {
     "name": "stdout",
     "output_type": "stream",
     "text": [
      "16 0.5652999877929688\n"
     ]
    },
    {
     "name": "stderr",
     "output_type": "stream",
     "text": [
      "current loss:0.8550988435745239: 100%|██████████| 100/100 [00:13<00:00,  7.52it/s]\n",
      "current loss:0.6749023795127869:   1%|          | 1/100 [00:00<00:12,  7.63it/s]"
     ]
    },
    {
     "name": "stdout",
     "output_type": "stream",
     "text": [
      "17 0.5633000135421753\n"
     ]
    },
    {
     "name": "stderr",
     "output_type": "stream",
     "text": [
      "current loss:0.8355048298835754: 100%|██████████| 100/100 [00:11<00:00,  8.39it/s]\n",
      "current loss:0.6680524349212646:   1%|          | 1/100 [00:00<00:15,  6.58it/s]"
     ]
    },
    {
     "name": "stdout",
     "output_type": "stream",
     "text": [
      "18 0.5633000135421753\n"
     ]
    },
    {
     "name": "stderr",
     "output_type": "stream",
     "text": [
      "current loss:0.8200604319572449: 100%|██████████| 100/100 [00:13<00:00,  7.37it/s]\n",
      "  0%|          | 0/100 [00:00<?, ?it/s]"
     ]
    },
    {
     "name": "stdout",
     "output_type": "stream",
     "text": [
      "19 0.5670999884605408\n"
     ]
    },
    {
     "name": "stderr",
     "output_type": "stream",
     "text": [
      "current loss:0.802025318145752: 100%|██████████| 100/100 [00:12<00:00,  7.96it/s]\n",
      "current loss:0.6418870091438293:   1%|          | 1/100 [00:00<00:18,  5.46it/s]"
     ]
    },
    {
     "name": "stdout",
     "output_type": "stream",
     "text": [
      "20 0.5685999989509583\n"
     ]
    },
    {
     "name": "stderr",
     "output_type": "stream",
     "text": [
      "current loss:0.7859086990356445: 100%|██████████| 100/100 [00:12<00:00,  8.03it/s]\n",
      "current loss:0.6277114152908325:   1%|          | 1/100 [00:00<00:12,  8.11it/s]"
     ]
    },
    {
     "name": "stdout",
     "output_type": "stream",
     "text": [
      "21 0.5687000155448914\n"
     ]
    },
    {
     "name": "stderr",
     "output_type": "stream",
     "text": [
      "current loss:0.7670225501060486: 100%|██████████| 100/100 [00:11<00:00,  8.39it/s]\n",
      "current loss:0.6224641799926758:   1%|          | 1/100 [00:00<00:12,  7.96it/s]"
     ]
    },
    {
     "name": "stdout",
     "output_type": "stream",
     "text": [
      "22 0.569100022315979\n"
     ]
    },
    {
     "name": "stderr",
     "output_type": "stream",
     "text": [
      "current loss:0.7537795305252075: 100%|██████████| 100/100 [00:11<00:00,  8.69it/s]\n",
      "current loss:0.6137473583221436:   1%|          | 1/100 [00:00<00:12,  7.93it/s]"
     ]
    },
    {
     "name": "stdout",
     "output_type": "stream",
     "text": [
      "23 0.5690000057220459\n"
     ]
    },
    {
     "name": "stderr",
     "output_type": "stream",
     "text": [
      "current loss:0.7425815463066101: 100%|██████████| 100/100 [00:10<00:00,  9.13it/s]\n",
      "current loss:2.3365142345428467:   1%|          | 1/100 [00:00<00:11,  8.42it/s]"
     ]
    },
    {
     "name": "stdout",
     "output_type": "stream",
     "text": [
      "24 0.5684999823570251\n"
     ]
    },
    {
     "name": "stderr",
     "output_type": "stream",
     "text": [
      "current loss:1.5730397701263428: 100%|██████████| 100/100 [00:10<00:00,  9.11it/s]\n",
      "current loss:1.6507104635238647:   1%|          | 1/100 [00:00<00:13,  7.18it/s]"
     ]
    },
    {
     "name": "stdout",
     "output_type": "stream",
     "text": [
      "0 0.4262000024318695\n"
     ]
    },
    {
     "name": "stderr",
     "output_type": "stream",
     "text": [
      "current loss:1.382619857788086: 100%|██████████| 100/100 [00:15<00:00,  6.62it/s]\n",
      "current loss:1.432011365890503:   1%|          | 1/100 [00:00<00:18,  5.45it/s]"
     ]
    },
    {
     "name": "stdout",
     "output_type": "stream",
     "text": [
      "1 0.48069998621940613\n"
     ]
    },
    {
     "name": "stderr",
     "output_type": "stream",
     "text": [
      "current loss:1.2829772233963013: 100%|██████████| 100/100 [00:13<00:00,  7.24it/s]\n",
      "current loss:1.2849376201629639:   1%|          | 1/100 [00:00<00:13,  7.40it/s]"
     ]
    },
    {
     "name": "stdout",
     "output_type": "stream",
     "text": [
      "2 0.5044000148773193\n"
     ]
    },
    {
     "name": "stderr",
     "output_type": "stream",
     "text": [
      "current loss:1.2066205739974976: 100%|██████████| 100/100 [00:13<00:00,  7.37it/s]\n",
      "current loss:1.176835536956787:   1%|          | 1/100 [00:00<00:12,  7.71it/s]"
     ]
    },
    {
     "name": "stdout",
     "output_type": "stream",
     "text": [
      "3 0.5217000246047974\n"
     ]
    },
    {
     "name": "stderr",
     "output_type": "stream",
     "text": [
      "current loss:1.150545358657837: 100%|██████████| 100/100 [00:18<00:00,  5.55it/s]\n",
      "current loss:1.099736213684082:   1%|          | 1/100 [00:00<00:13,  7.28it/s]"
     ]
    },
    {
     "name": "stdout",
     "output_type": "stream",
     "text": [
      "4 0.5353999733924866\n"
     ]
    },
    {
     "name": "stderr",
     "output_type": "stream",
     "text": [
      "current loss:1.097373366355896: 100%|██████████| 100/100 [00:15<00:00,  6.51it/s]\n",
      "current loss:1.0333192348480225:   1%|          | 1/100 [00:00<00:15,  6.30it/s]"
     ]
    },
    {
     "name": "stdout",
     "output_type": "stream",
     "text": [
      "5 0.5430999994277954\n"
     ]
    },
    {
     "name": "stderr",
     "output_type": "stream",
     "text": [
      "current loss:1.050062894821167: 100%|██████████| 100/100 [00:14<00:00,  7.09it/s]\n",
      "current loss:0.991197407245636:   1%|          | 1/100 [00:00<00:12,  8.20it/s]"
     ]
    },
    {
     "name": "stdout",
     "output_type": "stream",
     "text": [
      "6 0.5490000247955322\n"
     ]
    },
    {
     "name": "stderr",
     "output_type": "stream",
     "text": [
      "current loss:1.0109903812408447: 100%|██████████| 100/100 [00:12<00:00,  8.23it/s]\n",
      "current loss:0.9410219192504883:   1%|          | 1/100 [00:00<00:12,  7.72it/s]"
     ]
    },
    {
     "name": "stdout",
     "output_type": "stream",
     "text": [
      "7 0.5565999746322632\n"
     ]
    },
    {
     "name": "stderr",
     "output_type": "stream",
     "text": [
      "current loss:0.9735609292984009: 100%|██████████| 100/100 [00:12<00:00,  7.79it/s]\n",
      "current loss:0.8897621631622314:   1%|          | 1/100 [00:00<00:18,  5.49it/s]"
     ]
    },
    {
     "name": "stdout",
     "output_type": "stream",
     "text": [
      "8 0.5609999895095825\n"
     ]
    },
    {
     "name": "stderr",
     "output_type": "stream",
     "text": [
      "current loss:0.9366437196731567: 100%|██████████| 100/100 [00:14<00:00,  6.85it/s]\n",
      "current loss:0.8458153605461121:   1%|          | 1/100 [00:00<00:14,  6.86it/s]"
     ]
    },
    {
     "name": "stdout",
     "output_type": "stream",
     "text": [
      "9 0.5619999766349792\n"
     ]
    },
    {
     "name": "stderr",
     "output_type": "stream",
     "text": [
      "current loss:0.9085606336593628: 100%|██████████| 100/100 [00:14<00:00,  7.09it/s]\n",
      "current loss:0.8185809850692749:   1%|          | 1/100 [00:00<00:12,  7.88it/s]"
     ]
    },
    {
     "name": "stdout",
     "output_type": "stream",
     "text": [
      "10 0.5608999729156494\n"
     ]
    },
    {
     "name": "stderr",
     "output_type": "stream",
     "text": [
      "current loss:0.8822417259216309: 100%|██████████| 100/100 [00:14<00:00,  6.97it/s]\n",
      "current loss:0.7855757474899292:   1%|          | 1/100 [00:00<00:11,  8.27it/s]"
     ]
    },
    {
     "name": "stdout",
     "output_type": "stream",
     "text": [
      "11 0.5662999749183655\n"
     ]
    },
    {
     "name": "stderr",
     "output_type": "stream",
     "text": [
      "current loss:0.8600645065307617: 100%|██████████| 100/100 [00:12<00:00,  7.91it/s]\n",
      "current loss:0.768722414970398:   1%|          | 1/100 [00:00<00:15,  6.25it/s]"
     ]
    },
    {
     "name": "stdout",
     "output_type": "stream",
     "text": [
      "12 0.5648000240325928\n"
     ]
    },
    {
     "name": "stderr",
     "output_type": "stream",
     "text": [
      "current loss:0.8352950215339661: 100%|██████████| 100/100 [00:14<00:00,  7.10it/s]\n",
      "current loss:0.7453545331954956:   1%|          | 1/100 [00:00<00:13,  7.26it/s]"
     ]
    },
    {
     "name": "stdout",
     "output_type": "stream",
     "text": [
      "13 0.5647000074386597\n"
     ]
    },
    {
     "name": "stderr",
     "output_type": "stream",
     "text": [
      "current loss:0.8158167600631714: 100%|██████████| 100/100 [00:15<00:00,  6.52it/s]\n",
      "current loss:0.7230491042137146:   1%|          | 1/100 [00:00<00:12,  7.87it/s]"
     ]
    },
    {
     "name": "stdout",
     "output_type": "stream",
     "text": [
      "14 0.5601000189781189\n"
     ]
    },
    {
     "name": "stderr",
     "output_type": "stream",
     "text": [
      "current loss:0.7962440252304077: 100%|██████████| 100/100 [00:15<00:00,  6.44it/s]\n",
      "current loss:0.6993706226348877:   1%|          | 1/100 [00:00<00:17,  5.58it/s]"
     ]
    },
    {
     "name": "stdout",
     "output_type": "stream",
     "text": [
      "15 0.5577999949455261\n"
     ]
    },
    {
     "name": "stderr",
     "output_type": "stream",
     "text": [
      "current loss:0.7718101739883423: 100%|██████████| 100/100 [00:12<00:00,  7.71it/s]\n",
      "current loss:0.67134690284729:   1%|          | 1/100 [00:00<00:12,  8.13it/s]"
     ]
    },
    {
     "name": "stdout",
     "output_type": "stream",
     "text": [
      "16 0.5623000264167786\n"
     ]
    },
    {
     "name": "stderr",
     "output_type": "stream",
     "text": [
      "current loss:0.7536312937736511: 100%|██████████| 100/100 [00:12<00:00,  8.02it/s]\n",
      "current loss:0.6592540740966797:   1%|          | 1/100 [00:00<00:12,  8.03it/s]"
     ]
    },
    {
     "name": "stdout",
     "output_type": "stream",
     "text": [
      "17 0.557200014591217\n"
     ]
    },
    {
     "name": "stderr",
     "output_type": "stream",
     "text": [
      "current loss:0.7384175062179565: 100%|██████████| 100/100 [00:12<00:00,  8.04it/s]\n",
      "current loss:0.6389356851577759:   1%|          | 1/100 [00:00<00:12,  8.11it/s]"
     ]
    },
    {
     "name": "stdout",
     "output_type": "stream",
     "text": [
      "18 0.557200014591217\n"
     ]
    },
    {
     "name": "stderr",
     "output_type": "stream",
     "text": [
      "current loss:0.7224540114402771: 100%|██████████| 100/100 [00:11<00:00,  8.64it/s]\n",
      "current loss:0.6245800852775574:   1%|          | 1/100 [00:00<00:12,  8.00it/s]"
     ]
    },
    {
     "name": "stdout",
     "output_type": "stream",
     "text": [
      "19 0.5569000244140625\n"
     ]
    },
    {
     "name": "stderr",
     "output_type": "stream",
     "text": [
      "current loss:0.7100099325180054: 100%|██████████| 100/100 [00:12<00:00,  8.27it/s]\n",
      "current loss:0.6124009490013123:   1%|          | 1/100 [00:00<00:11,  8.89it/s]"
     ]
    },
    {
     "name": "stdout",
     "output_type": "stream",
     "text": [
      "20 0.5548999905586243\n"
     ]
    },
    {
     "name": "stderr",
     "output_type": "stream",
     "text": [
      "current loss:0.695244550704956: 100%|██████████| 100/100 [00:11<00:00,  8.96it/s]\n",
      "current loss:0.5918949246406555:   1%|          | 1/100 [00:00<00:12,  7.91it/s]"
     ]
    },
    {
     "name": "stdout",
     "output_type": "stream",
     "text": [
      "21 0.5550000071525574\n"
     ]
    },
    {
     "name": "stderr",
     "output_type": "stream",
     "text": [
      "current loss:0.6824873089790344: 100%|██████████| 100/100 [00:12<00:00,  7.70it/s]\n",
      "  0%|          | 0/100 [00:00<?, ?it/s]"
     ]
    },
    {
     "name": "stdout",
     "output_type": "stream",
     "text": [
      "22 0.555899977684021\n"
     ]
    },
    {
     "name": "stderr",
     "output_type": "stream",
     "text": [
      "current loss:0.6734938621520996: 100%|██████████| 100/100 [00:13<00:00,  7.57it/s]\n",
      "current loss:0.55098956823349:   1%|          | 1/100 [00:00<00:12,  7.82it/s]"
     ]
    },
    {
     "name": "stdout",
     "output_type": "stream",
     "text": [
      "23 0.5526000261306763\n"
     ]
    },
    {
     "name": "stderr",
     "output_type": "stream",
     "text": [
      "current loss:0.6608898639678955: 100%|██████████| 100/100 [00:13<00:00,  7.68it/s]\n",
      "current loss:2.2841274738311768:   1%|          | 1/100 [00:00<00:13,  7.17it/s]"
     ]
    },
    {
     "name": "stdout",
     "output_type": "stream",
     "text": [
      "24 0.5605000257492065\n"
     ]
    },
    {
     "name": "stderr",
     "output_type": "stream",
     "text": [
      "current loss:1.4217212200164795: 100%|██████████| 100/100 [00:11<00:00,  8.50it/s]\n",
      "current loss:1.4394327402114868:   1%|          | 1/100 [00:00<00:11,  8.45it/s]"
     ]
    },
    {
     "name": "stdout",
     "output_type": "stream",
     "text": [
      "0 0.4117000102996826\n"
     ]
    },
    {
     "name": "stderr",
     "output_type": "stream",
     "text": [
      "current loss:1.1759146451950073: 100%|██████████| 100/100 [00:12<00:00,  8.07it/s]\n",
      "current loss:1.205754041671753:   1%|          | 1/100 [00:00<00:13,  7.45it/s]"
     ]
    },
    {
     "name": "stdout",
     "output_type": "stream",
     "text": [
      "1 0.46470001339912415\n"
     ]
    },
    {
     "name": "stderr",
     "output_type": "stream",
     "text": [
      "current loss:1.0175789594650269: 100%|██████████| 100/100 [00:12<00:00,  8.13it/s]\n",
      "current loss:1.0912669897079468:   1%|          | 1/100 [00:00<00:11,  8.78it/s]"
     ]
    },
    {
     "name": "stdout",
     "output_type": "stream",
     "text": [
      "2 0.4952000081539154\n"
     ]
    },
    {
     "name": "stderr",
     "output_type": "stream",
     "text": [
      "current loss:0.8983631134033203: 100%|██████████| 100/100 [00:12<00:00,  8.11it/s]\n",
      "current loss:0.978111982345581:   1%|          | 1/100 [00:00<00:11,  8.70it/s]"
     ]
    },
    {
     "name": "stdout",
     "output_type": "stream",
     "text": [
      "3 0.5131000280380249\n"
     ]
    },
    {
     "name": "stderr",
     "output_type": "stream",
     "text": [
      "current loss:0.7951284646987915: 100%|██████████| 100/100 [00:12<00:00,  7.97it/s]\n",
      "current loss:0.8607178926467896:   1%|          | 1/100 [00:00<00:12,  8.05it/s]"
     ]
    },
    {
     "name": "stdout",
     "output_type": "stream",
     "text": [
      "4 0.5260999798774719\n"
     ]
    },
    {
     "name": "stderr",
     "output_type": "stream",
     "text": [
      "current loss:0.6998758316040039: 100%|██████████| 100/100 [00:13<00:00,  7.46it/s]\n",
      "current loss:0.7478348016738892:   1%|          | 1/100 [00:00<00:17,  5.63it/s]"
     ]
    },
    {
     "name": "stdout",
     "output_type": "stream",
     "text": [
      "5 0.5358999967575073\n"
     ]
    },
    {
     "name": "stderr",
     "output_type": "stream",
     "text": [
      "current loss:0.6089290976524353: 100%|██████████| 100/100 [00:12<00:00,  8.09it/s]\n",
      "current loss:0.650833010673523:   1%|          | 1/100 [00:00<00:11,  8.43it/s]"
     ]
    },
    {
     "name": "stdout",
     "output_type": "stream",
     "text": [
      "6 0.5361999869346619\n"
     ]
    },
    {
     "name": "stderr",
     "output_type": "stream",
     "text": [
      "current loss:0.522175669670105: 100%|██████████| 100/100 [00:13<00:00,  7.51it/s] \n",
      "current loss:0.5505039095878601:   1%|          | 1/100 [00:00<00:12,  7.98it/s]"
     ]
    },
    {
     "name": "stdout",
     "output_type": "stream",
     "text": [
      "7 0.5450000166893005\n"
     ]
    },
    {
     "name": "stderr",
     "output_type": "stream",
     "text": [
      "current loss:0.4404004216194153: 100%|██████████| 100/100 [00:14<00:00,  6.99it/s]\n",
      "current loss:0.460582971572876:   1%|          | 1/100 [00:00<00:13,  7.50it/s]"
     ]
    },
    {
     "name": "stdout",
     "output_type": "stream",
     "text": [
      "8 0.550000011920929\n"
     ]
    },
    {
     "name": "stderr",
     "output_type": "stream",
     "text": [
      "current loss:0.3592718243598938: 100%|██████████| 100/100 [00:13<00:00,  7.57it/s]\n",
      "current loss:0.3637717366218567:   1%|          | 1/100 [00:00<00:12,  7.98it/s]"
     ]
    },
    {
     "name": "stdout",
     "output_type": "stream",
     "text": [
      "9 0.5575000047683716\n"
     ]
    },
    {
     "name": "stderr",
     "output_type": "stream",
     "text": [
      "current loss:0.28257089853286743: 100%|██████████| 100/100 [00:11<00:00,  8.72it/s]\n",
      "current loss:0.27576184272766113:   1%|          | 1/100 [00:00<00:12,  8.12it/s]"
     ]
    },
    {
     "name": "stdout",
     "output_type": "stream",
     "text": [
      "10 0.5584999918937683\n"
     ]
    },
    {
     "name": "stderr",
     "output_type": "stream",
     "text": [
      "current loss:0.2068430632352829: 100%|██████████| 100/100 [00:11<00:00,  8.60it/s]\n",
      "current loss:0.19185584783554077:   1%|          | 1/100 [00:00<00:12,  7.83it/s]"
     ]
    },
    {
     "name": "stdout",
     "output_type": "stream",
     "text": [
      "11 0.555400013923645\n"
     ]
    },
    {
     "name": "stderr",
     "output_type": "stream",
     "text": [
      "current loss:0.13171526789665222: 100%|██████████| 100/100 [00:12<00:00,  7.77it/s]\n",
      "current loss:0.1173134446144104:   1%|          | 1/100 [00:00<00:13,  7.08it/s]"
     ]
    },
    {
     "name": "stdout",
     "output_type": "stream",
     "text": [
      "12 0.5558000206947327\n"
     ]
    },
    {
     "name": "stderr",
     "output_type": "stream",
     "text": [
      "current loss:0.05617433786392212: 100%|██████████| 100/100 [00:13<00:00,  7.51it/s]\n",
      "current loss:0.02825295925140381:   1%|          | 1/100 [00:00<00:12,  7.69it/s]"
     ]
    },
    {
     "name": "stdout",
     "output_type": "stream",
     "text": [
      "13 0.5544999837875366\n"
     ]
    },
    {
     "name": "stderr",
     "output_type": "stream",
     "text": [
      "current loss:-0.014362936839461327: 100%|██████████| 100/100 [00:13<00:00,  7.21it/s] \n",
      "current loss:-0.043862342834472656:   1%|          | 1/100 [00:00<00:14,  6.83it/s]"
     ]
    },
    {
     "name": "stdout",
     "output_type": "stream",
     "text": [
      "14 0.5546000003814697\n"
     ]
    },
    {
     "name": "stderr",
     "output_type": "stream",
     "text": [
      "current loss:-0.08453958481550217: 100%|██████████| 100/100 [00:14<00:00,  6.89it/s]\n",
      "current loss:-0.11403530836105347:   1%|          | 1/100 [00:00<00:13,  7.36it/s]"
     ]
    },
    {
     "name": "stdout",
     "output_type": "stream",
     "text": [
      "15 0.5555999875068665\n"
     ]
    },
    {
     "name": "stderr",
     "output_type": "stream",
     "text": [
      "current loss:-0.15261726081371307: 100%|██████████| 100/100 [00:15<00:00,  6.47it/s]\n",
      "current loss:-0.17959505319595337:   1%|          | 1/100 [00:00<00:13,  7.61it/s]"
     ]
    },
    {
     "name": "stdout",
     "output_type": "stream",
     "text": [
      "16 0.5519999861717224\n"
     ]
    },
    {
     "name": "stderr",
     "output_type": "stream",
     "text": [
      "current loss:-0.22106154263019562: 100%|██████████| 100/100 [00:14<00:00,  6.78it/s]\n",
      "current loss:-0.24783265590667725:   1%|          | 1/100 [00:00<00:11,  8.39it/s]"
     ]
    },
    {
     "name": "stdout",
     "output_type": "stream",
     "text": [
      "17 0.5522000193595886\n"
     ]
    },
    {
     "name": "stderr",
     "output_type": "stream",
     "text": [
      "current loss:-0.28922685980796814: 100%|██████████| 100/100 [00:12<00:00,  8.01it/s]\n",
      "current loss:-0.30636119842529297:   1%|          | 1/100 [00:00<00:11,  8.47it/s]"
     ]
    },
    {
     "name": "stdout",
     "output_type": "stream",
     "text": [
      "18 0.550000011920929\n"
     ]
    },
    {
     "name": "stderr",
     "output_type": "stream",
     "text": [
      "current loss:-0.3562663197517395: 100%|██████████| 100/100 [00:13<00:00,  7.54it/s]\n",
      "current loss:-0.37491703033447266:   1%|          | 1/100 [00:00<00:17,  5.64it/s]"
     ]
    },
    {
     "name": "stdout",
     "output_type": "stream",
     "text": [
      "19 0.5468999743461609\n"
     ]
    },
    {
     "name": "stderr",
     "output_type": "stream",
     "text": [
      "current loss:-0.4258539080619812: 100%|██████████| 100/100 [00:14<00:00,  7.06it/s]\n",
      "current loss:-0.4413852095603943:   1%|          | 1/100 [00:00<00:15,  6.22it/s]"
     ]
    },
    {
     "name": "stdout",
     "output_type": "stream",
     "text": [
      "20 0.5468000173568726\n"
     ]
    },
    {
     "name": "stderr",
     "output_type": "stream",
     "text": [
      "current loss:-0.4935768246650696: 100%|██████████| 100/100 [00:12<00:00,  8.19it/s]\n",
      "current loss:-0.5103020668029785:   1%|          | 1/100 [00:00<00:12,  7.83it/s]"
     ]
    },
    {
     "name": "stdout",
     "output_type": "stream",
     "text": [
      "21 0.5461000204086304\n"
     ]
    },
    {
     "name": "stderr",
     "output_type": "stream",
     "text": [
      "current loss:-0.5559827089309692: 100%|██████████| 100/100 [00:11<00:00,  8.50it/s]\n",
      "current loss:-0.5759329199790955:   1%|          | 1/100 [00:00<00:12,  7.83it/s]"
     ]
    },
    {
     "name": "stdout",
     "output_type": "stream",
     "text": [
      "22 0.5454000234603882\n"
     ]
    },
    {
     "name": "stderr",
     "output_type": "stream",
     "text": [
      "current loss:-0.6192833185195923: 100%|██████████| 100/100 [00:12<00:00,  8.11it/s]\n",
      "current loss:-0.6345391869544983:   1%|          | 1/100 [00:00<00:13,  7.55it/s]"
     ]
    },
    {
     "name": "stdout",
     "output_type": "stream",
     "text": [
      "23 0.5437999963760376\n"
     ]
    },
    {
     "name": "stderr",
     "output_type": "stream",
     "text": [
      "current loss:-0.6800585985183716: 100%|██████████| 100/100 [00:13<00:00,  7.61it/s]\n",
      "current loss:2.670300245285034:   1%|          | 1/100 [00:00<00:13,  7.61it/s]"
     ]
    },
    {
     "name": "stdout",
     "output_type": "stream",
     "text": [
      "24 0.5436999797821045\n"
     ]
    },
    {
     "name": "stderr",
     "output_type": "stream",
     "text": [
      "current loss:-0.7309178113937378: 100%|██████████| 100/100 [00:12<00:00,  7.91it/s] \n",
      "current loss:-0.7643582820892334:   1%|          | 1/100 [00:00<00:12,  7.77it/s]"
     ]
    },
    {
     "name": "stdout",
     "output_type": "stream",
     "text": [
      "0 0.2809000015258789\n"
     ]
    },
    {
     "name": "stderr",
     "output_type": "stream",
     "text": [
      "current loss:-1.563251256942749: 100%|██████████| 100/100 [00:11<00:00,  8.51it/s]\n",
      "current loss:-1.515284538269043:   1%|          | 1/100 [00:00<00:12,  7.84it/s]"
     ]
    },
    {
     "name": "stdout",
     "output_type": "stream",
     "text": [
      "1 0.3578000068664551\n"
     ]
    },
    {
     "name": "stderr",
     "output_type": "stream",
     "text": [
      "current loss:-2.2270896434783936: 100%|██████████| 100/100 [00:13<00:00,  7.63it/s]\n",
      "current loss:-2.2001094818115234:   1%|          | 1/100 [00:00<00:12,  7.62it/s]"
     ]
    },
    {
     "name": "stdout",
     "output_type": "stream",
     "text": [
      "2 0.4214000105857849\n"
     ]
    },
    {
     "name": "stderr",
     "output_type": "stream",
     "text": [
      "current loss:-2.8505663871765137: 100%|██████████| 100/100 [00:13<00:00,  7.57it/s]\n",
      "current loss:-2.847034454345703:   1%|          | 1/100 [00:00<00:13,  7.60it/s]"
     ]
    },
    {
     "name": "stdout",
     "output_type": "stream",
     "text": [
      "3 0.4602999985218048\n"
     ]
    },
    {
     "name": "stderr",
     "output_type": "stream",
     "text": [
      "current loss:-3.4584460258483887: 100%|██████████| 100/100 [00:13<00:00,  7.60it/s]\n",
      "current loss:-3.466503143310547:   1%|          | 1/100 [00:00<00:14,  6.90it/s]"
     ]
    },
    {
     "name": "stdout",
     "output_type": "stream",
     "text": [
      "4 0.48669999837875366\n"
     ]
    },
    {
     "name": "stderr",
     "output_type": "stream",
     "text": [
      "current loss:-4.061894416809082: 100%|██████████| 100/100 [00:14<00:00,  7.01it/s]\n",
      "current loss:-4.0809245109558105:   1%|          | 1/100 [00:00<00:12,  7.79it/s]"
     ]
    },
    {
     "name": "stdout",
     "output_type": "stream",
     "text": [
      "5 0.508400022983551\n"
     ]
    },
    {
     "name": "stderr",
     "output_type": "stream",
     "text": [
      "current loss:-4.664558410644531: 100%|██████████| 100/100 [00:13<00:00,  7.27it/s]\n",
      "current loss:-4.696295738220215:   1%|          | 1/100 [00:00<00:13,  7.24it/s]"
     ]
    },
    {
     "name": "stdout",
     "output_type": "stream",
     "text": [
      "6 0.5249999761581421\n"
     ]
    },
    {
     "name": "stderr",
     "output_type": "stream",
     "text": [
      "current loss:-5.273746013641357: 100%|██████████| 100/100 [00:13<00:00,  7.41it/s]\n",
      "current loss:-5.317046642303467:   1%|          | 1/100 [00:00<00:11,  8.42it/s]"
     ]
    },
    {
     "name": "stdout",
     "output_type": "stream",
     "text": [
      "7 0.5302000045776367\n"
     ]
    },
    {
     "name": "stderr",
     "output_type": "stream",
     "text": [
      "current loss:-5.886133670806885: 100%|██████████| 100/100 [00:12<00:00,  8.12it/s]\n",
      "current loss:-5.931896209716797:   1%|          | 1/100 [00:00<00:12,  8.02it/s]"
     ]
    },
    {
     "name": "stdout",
     "output_type": "stream",
     "text": [
      "8 0.5407000184059143\n"
     ]
    },
    {
     "name": "stderr",
     "output_type": "stream",
     "text": [
      "current loss:-6.502681732177734: 100%|██████████| 100/100 [00:12<00:00,  8.10it/s]\n",
      "current loss:-6.551932334899902:   1%|          | 1/100 [00:00<00:16,  6.03it/s]"
     ]
    },
    {
     "name": "stdout",
     "output_type": "stream",
     "text": [
      "9 0.546500027179718\n"
     ]
    },
    {
     "name": "stderr",
     "output_type": "stream",
     "text": [
      "current loss:-7.118958950042725: 100%|██████████| 100/100 [00:12<00:00,  8.02it/s]\n",
      "current loss:-7.167335510253906:   1%|          | 1/100 [00:00<00:11,  8.36it/s]"
     ]
    },
    {
     "name": "stdout",
     "output_type": "stream",
     "text": [
      "10 0.5515000224113464\n"
     ]
    },
    {
     "name": "stderr",
     "output_type": "stream",
     "text": [
      "current loss:-7.741936683654785: 100%|██████████| 100/100 [00:11<00:00,  8.40it/s]\n",
      "current loss:-7.790065765380859:   1%|          | 1/100 [00:00<00:16,  6.08it/s]"
     ]
    },
    {
     "name": "stdout",
     "output_type": "stream",
     "text": [
      "11 0.5555999875068665\n"
     ]
    },
    {
     "name": "stderr",
     "output_type": "stream",
     "text": [
      "current loss:-8.365997314453125: 100%|██████████| 100/100 [00:12<00:00,  7.89it/s]\n",
      "current loss:-8.419011116027832:   1%|          | 1/100 [00:00<00:14,  7.06it/s]"
     ]
    },
    {
     "name": "stdout",
     "output_type": "stream",
     "text": [
      "12 0.5580000281333923\n"
     ]
    },
    {
     "name": "stderr",
     "output_type": "stream",
     "text": [
      "current loss:-8.991597175598145: 100%|██████████| 100/100 [00:12<00:00,  7.93it/s]\n",
      "current loss:-9.044344902038574:   1%|          | 1/100 [00:00<00:12,  8.15it/s]"
     ]
    },
    {
     "name": "stdout",
     "output_type": "stream",
     "text": [
      "13 0.5600000023841858\n"
     ]
    },
    {
     "name": "stderr",
     "output_type": "stream",
     "text": [
      "current loss:-9.621973991394043: 100%|██████████| 100/100 [00:12<00:00,  7.92it/s]\n",
      "current loss:-9.672759056091309:   1%|          | 1/100 [00:00<00:12,  7.85it/s]"
     ]
    },
    {
     "name": "stdout",
     "output_type": "stream",
     "text": [
      "14 0.5619000196456909\n"
     ]
    },
    {
     "name": "stderr",
     "output_type": "stream",
     "text": [
      "current loss:-10.25634479522705: 100%|██████████| 100/100 [00:11<00:00,  8.34it/s]\n",
      "current loss:-10.308847427368164:   1%|          | 1/100 [00:00<00:12,  7.69it/s]"
     ]
    },
    {
     "name": "stdout",
     "output_type": "stream",
     "text": [
      "15 0.5662000179290771\n"
     ]
    },
    {
     "name": "stderr",
     "output_type": "stream",
     "text": [
      "current loss:-10.892763137817383: 100%|██████████| 100/100 [00:12<00:00,  8.26it/s]\n",
      "current loss:-10.950491905212402:   1%|          | 1/100 [00:00<00:11,  8.62it/s]"
     ]
    },
    {
     "name": "stdout",
     "output_type": "stream",
     "text": [
      "16 0.5667999982833862\n"
     ]
    },
    {
     "name": "stderr",
     "output_type": "stream",
     "text": [
      "current loss:-11.530694007873535: 100%|██████████| 100/100 [00:11<00:00,  8.43it/s]\n",
      "current loss:-11.597225189208984:   1%|          | 1/100 [00:00<00:11,  8.70it/s]"
     ]
    },
    {
     "name": "stdout",
     "output_type": "stream",
     "text": [
      "17 0.5680000185966492\n"
     ]
    },
    {
     "name": "stderr",
     "output_type": "stream",
     "text": [
      "current loss:-12.173723220825195: 100%|██████████| 100/100 [00:12<00:00,  8.04it/s]\n",
      "current loss:-12.243083953857422:   1%|          | 1/100 [00:00<00:12,  7.82it/s]"
     ]
    },
    {
     "name": "stdout",
     "output_type": "stream",
     "text": [
      "18 0.5687999725341797\n"
     ]
    },
    {
     "name": "stderr",
     "output_type": "stream",
     "text": [
      "current loss:-12.816441535949707: 100%|██████████| 100/100 [00:13<00:00,  7.26it/s]\n",
      "current loss:-12.885461807250977:   1%|          | 1/100 [00:00<00:12,  8.22it/s]"
     ]
    },
    {
     "name": "stdout",
     "output_type": "stream",
     "text": [
      "19 0.5708000063896179\n"
     ]
    },
    {
     "name": "stderr",
     "output_type": "stream",
     "text": [
      "current loss:-13.459661483764648: 100%|██████████| 100/100 [00:15<00:00,  6.57it/s]\n",
      "current loss:-13.524553298950195:   1%|          | 1/100 [00:00<00:15,  6.49it/s]"
     ]
    },
    {
     "name": "stdout",
     "output_type": "stream",
     "text": [
      "20 0.5684999823570251\n"
     ]
    },
    {
     "name": "stderr",
     "output_type": "stream",
     "text": [
      "current loss:-14.103202819824219: 100%|██████████| 100/100 [00:14<00:00,  6.96it/s]\n",
      "current loss:-14.161989212036133:   1%|          | 1/100 [00:00<00:18,  5.25it/s]"
     ]
    },
    {
     "name": "stdout",
     "output_type": "stream",
     "text": [
      "21 0.570900022983551\n"
     ]
    },
    {
     "name": "stderr",
     "output_type": "stream",
     "text": [
      "current loss:-14.746060371398926: 100%|██████████| 100/100 [00:16<00:00,  6.08it/s]\n",
      "  0%|          | 0/100 [00:00<?, ?it/s]"
     ]
    },
    {
     "name": "stdout",
     "output_type": "stream",
     "text": [
      "22 0.5698000192642212\n"
     ]
    },
    {
     "name": "stderr",
     "output_type": "stream",
     "text": [
      "current loss:-15.389776229858398: 100%|██████████| 100/100 [00:19<00:00,  5.08it/s]\n",
      "  0%|          | 0/100 [00:00<?, ?it/s]"
     ]
    },
    {
     "name": "stdout",
     "output_type": "stream",
     "text": [
      "23 0.5684999823570251\n"
     ]
    },
    {
     "name": "stderr",
     "output_type": "stream",
     "text": [
      "current loss:-16.034297943115234: 100%|██████████| 100/100 [00:16<00:00,  6.09it/s]\n",
      "current loss:0.8997766971588135:   1%|          | 1/100 [00:00<00:13,  7.53it/s]"
     ]
    },
    {
     "name": "stdout",
     "output_type": "stream",
     "text": [
      "24 0.5680000185966492\n"
     ]
    },
    {
     "name": "stderr",
     "output_type": "stream",
     "text": [
      "current loss:-12.19376277923584: 100%|██████████| 100/100 [00:14<00:00,  6.68it/s]\n",
      "current loss:-12.328622817993164:   1%|          | 1/100 [00:00<00:11,  8.35it/s]"
     ]
    },
    {
     "name": "stdout",
     "output_type": "stream",
     "text": [
      "0 0.13779999315738678\n"
     ]
    },
    {
     "name": "stderr",
     "output_type": "stream",
     "text": [
      "current loss:-15.125964164733887: 100%|██████████| 100/100 [00:14<00:00,  7.11it/s]\n",
      "current loss:-15.265424728393555:   1%|          | 1/100 [00:00<00:12,  7.79it/s]"
     ]
    },
    {
     "name": "stdout",
     "output_type": "stream",
     "text": [
      "1 0.1200999990105629\n"
     ]
    },
    {
     "name": "stderr",
     "output_type": "stream",
     "text": [
      "current loss:-17.813621520996094: 100%|██████████| 100/100 [00:13<00:00,  7.60it/s]\n",
      "current loss:-17.956668853759766:   1%|          | 1/100 [00:00<00:12,  8.06it/s]"
     ]
    },
    {
     "name": "stdout",
     "output_type": "stream",
     "text": [
      "2 0.1347000002861023\n"
     ]
    },
    {
     "name": "stderr",
     "output_type": "stream",
     "text": [
      "current loss:-20.474414825439453: 100%|██████████| 100/100 [00:13<00:00,  7.38it/s]\n",
      "current loss:-20.61923599243164:   1%|          | 1/100 [00:00<00:12,  7.69it/s]"
     ]
    },
    {
     "name": "stdout",
     "output_type": "stream",
     "text": [
      "3 0.1598999947309494\n"
     ]
    },
    {
     "name": "stderr",
     "output_type": "stream",
     "text": [
      "current loss:-23.167255401611328: 100%|██████████| 100/100 [00:18<00:00,  5.39it/s]\n",
      "current loss:-23.31342124938965:   1%|          | 1/100 [00:00<00:15,  6.39it/s]"
     ]
    },
    {
     "name": "stdout",
     "output_type": "stream",
     "text": [
      "4 0.17000000178813934\n"
     ]
    },
    {
     "name": "stderr",
     "output_type": "stream",
     "text": [
      "current loss:-25.928091049194336: 100%|██████████| 100/100 [00:25<00:00,  3.98it/s]\n",
      "current loss:-26.072101593017578:   1%|          | 1/100 [00:00<00:18,  5.28it/s]"
     ]
    },
    {
     "name": "stdout",
     "output_type": "stream",
     "text": [
      "5 0.1590999960899353\n"
     ]
    },
    {
     "name": "stderr",
     "output_type": "stream",
     "text": [
      "current loss:-28.745166778564453: 100%|██████████| 100/100 [00:14<00:00,  6.83it/s]\n",
      "  0%|          | 0/100 [00:00<?, ?it/s]"
     ]
    },
    {
     "name": "stdout",
     "output_type": "stream",
     "text": [
      "6 0.18219999969005585\n"
     ]
    },
    {
     "name": "stderr",
     "output_type": "stream",
     "text": [
      "current loss:-31.605981826782227: 100%|██████████| 100/100 [00:11<00:00,  8.35it/s]\n",
      "current loss:-31.739980697631836:   1%|          | 1/100 [00:00<00:12,  7.72it/s]"
     ]
    },
    {
     "name": "stdout",
     "output_type": "stream",
     "text": [
      "7 0.20100000500679016\n"
     ]
    },
    {
     "name": "stderr",
     "output_type": "stream",
     "text": [
      "current loss:-34.513980865478516: 100%|██████████| 100/100 [00:12<00:00,  8.09it/s]\n",
      "current loss:-34.647735595703125:   1%|          | 1/100 [00:00<00:18,  5.42it/s]"
     ]
    },
    {
     "name": "stdout",
     "output_type": "stream",
     "text": [
      "8 0.23489999771118164\n"
     ]
    },
    {
     "name": "stderr",
     "output_type": "stream",
     "text": [
      "current loss:-37.464820861816406: 100%|██████████| 100/100 [00:13<00:00,  7.65it/s]\n",
      "current loss:-37.59855651855469:   1%|          | 1/100 [00:00<00:11,  8.49it/s]"
     ]
    },
    {
     "name": "stdout",
     "output_type": "stream",
     "text": [
      "9 0.25189998745918274\n"
     ]
    },
    {
     "name": "stderr",
     "output_type": "stream",
     "text": [
      "current loss:-40.456703186035156: 100%|██████████| 100/100 [00:12<00:00,  8.31it/s]\n",
      "current loss:-40.59577941894531:   1%|          | 1/100 [00:00<00:16,  5.93it/s]"
     ]
    },
    {
     "name": "stdout",
     "output_type": "stream",
     "text": [
      "10 0.26579999923706055\n"
     ]
    },
    {
     "name": "stderr",
     "output_type": "stream",
     "text": [
      "current loss:-43.48508834838867: 100%|██████████| 100/100 [00:14<00:00,  6.71it/s]\n",
      "  0%|          | 0/100 [00:00<?, ?it/s]"
     ]
    },
    {
     "name": "stdout",
     "output_type": "stream",
     "text": [
      "11 0.27149999141693115\n"
     ]
    },
    {
     "name": "stderr",
     "output_type": "stream",
     "text": [
      "current loss:-46.547767639160156: 100%|██████████| 100/100 [00:12<00:00,  7.85it/s]\n",
      "current loss:-46.692989349365234:   1%|          | 1/100 [00:00<00:11,  8.39it/s]"
     ]
    },
    {
     "name": "stdout",
     "output_type": "stream",
     "text": [
      "12 0.2761000096797943\n"
     ]
    },
    {
     "name": "stderr",
     "output_type": "stream",
     "text": [
      "current loss:-49.64070510864258: 100%|██████████| 100/100 [00:13<00:00,  7.58it/s]\n",
      "current loss:-49.78963851928711:   1%|          | 1/100 [00:00<00:13,  7.49it/s]"
     ]
    },
    {
     "name": "stdout",
     "output_type": "stream",
     "text": [
      "13 0.2791999876499176\n"
     ]
    },
    {
     "name": "stderr",
     "output_type": "stream",
     "text": [
      "current loss:-52.76133346557617: 100%|██████████| 100/100 [00:12<00:00,  8.10it/s]\n",
      "current loss:-52.91908645629883:   1%|          | 1/100 [00:00<00:12,  7.77it/s]"
     ]
    },
    {
     "name": "stdout",
     "output_type": "stream",
     "text": [
      "14 0.2831000089645386\n"
     ]
    },
    {
     "name": "stderr",
     "output_type": "stream",
     "text": [
      "current loss:-55.90631103515625: 100%|██████████| 100/100 [00:12<00:00,  7.76it/s]\n",
      "  0%|          | 0/100 [00:00<?, ?it/s]"
     ]
    },
    {
     "name": "stdout",
     "output_type": "stream",
     "text": [
      "15 0.2838999927043915\n"
     ]
    },
    {
     "name": "stderr",
     "output_type": "stream",
     "text": [
      "current loss:-59.07172775268555: 100%|██████████| 100/100 [00:37<00:00,  2.70it/s]\n",
      "  0%|          | 0/100 [00:00<?, ?it/s]"
     ]
    },
    {
     "name": "stdout",
     "output_type": "stream",
     "text": [
      "16 0.2865000069141388\n"
     ]
    },
    {
     "name": "stderr",
     "output_type": "stream",
     "text": [
      "current loss:-62.255340576171875: 100%|██████████| 100/100 [00:32<00:00,  3.04it/s]\n",
      "  0%|          | 0/100 [00:00<?, ?it/s]"
     ]
    },
    {
     "name": "stdout",
     "output_type": "stream",
     "text": [
      "17 0.2854999899864197\n"
     ]
    },
    {
     "name": "stderr",
     "output_type": "stream",
     "text": [
      "current loss:-65.4533462524414: 100%|██████████| 100/100 [00:20<00:00,  4.95it/s] \n",
      "  0%|          | 0/100 [00:00<?, ?it/s]"
     ]
    },
    {
     "name": "stdout",
     "output_type": "stream",
     "text": [
      "18 0.2833000123500824\n"
     ]
    },
    {
     "name": "stderr",
     "output_type": "stream",
     "text": [
      "current loss:-68.66471099853516: 100%|██████████| 100/100 [00:19<00:00,  5.22it/s]\n",
      "current loss:-68.8369369506836:   1%|          | 1/100 [00:00<00:16,  6.02it/s]"
     ]
    },
    {
     "name": "stdout",
     "output_type": "stream",
     "text": [
      "19 0.28139999508857727\n"
     ]
    },
    {
     "name": "stderr",
     "output_type": "stream",
     "text": [
      "current loss:-71.88756561279297: 100%|██████████| 100/100 [00:18<00:00,  5.41it/s]\n",
      "current loss:-72.05664825439453:   1%|          | 1/100 [00:00<00:16,  5.98it/s]"
     ]
    },
    {
     "name": "stdout",
     "output_type": "stream",
     "text": [
      "20 0.2849999964237213\n"
     ]
    },
    {
     "name": "stderr",
     "output_type": "stream",
     "text": [
      "current loss:-75.11747741699219: 100%|██████████| 100/100 [00:21<00:00,  4.68it/s]\n",
      "current loss:-75.2877426147461:   1%|          | 1/100 [00:00<00:15,  6.51it/s]"
     ]
    },
    {
     "name": "stdout",
     "output_type": "stream",
     "text": [
      "21 0.2863999903202057\n"
     ]
    },
    {
     "name": "stderr",
     "output_type": "stream",
     "text": [
      "current loss:-78.35623931884766: 100%|██████████| 100/100 [00:14<00:00,  7.13it/s]\n",
      "current loss:-78.52821350097656:   1%|          | 1/100 [00:00<00:13,  7.24it/s]"
     ]
    },
    {
     "name": "stdout",
     "output_type": "stream",
     "text": [
      "22 0.28839999437332153\n"
     ]
    },
    {
     "name": "stderr",
     "output_type": "stream",
     "text": [
      "current loss:-81.59880065917969: 100%|██████████| 100/100 [00:12<00:00,  7.94it/s]\n",
      "current loss:-81.76729583740234:   1%|          | 1/100 [00:00<00:11,  8.61it/s]"
     ]
    },
    {
     "name": "stdout",
     "output_type": "stream",
     "text": [
      "23 0.28679999709129333\n"
     ]
    },
    {
     "name": "stderr",
     "output_type": "stream",
     "text": [
      "current loss:-84.84751892089844: 100%|██████████| 100/100 [00:11<00:00,  8.58it/s]\n"
     ]
    },
    {
     "name": "stdout",
     "output_type": "stream",
     "text": [
      "24 0.29109999537467957\n"
     ]
    }
   ],
   "source": [
    "crit = nn.CrossEntropyLoss()\n",
    "for lam1 in [1e-7, 1e-6, 1e-5, 1e-4, 1e-3, 1e-2, 0.1, 0.5]:\n",
    "    student = Cifar_Very_Tiny(10).cpu()\n",
    "    teacher = Cifar_Tiny(10).cpu() \n",
    "    teacher.load_state_dict(torch.load('tiny_cifar10.model?raw=true', map_location=torch.device('cpu')))\n",
    "    #scheduler = torch.optim.lr_scheduler.StepLR(optim, step_size=10, gamma=0.5)   \n",
    "    mu_feat = nn.Linear(128, 64).cpu()\n",
    "    log_sigma_feat = torch.nn.Parameter(torch.zeros(1).cpu())\n",
    "\n",
    "    #mu_logit = nn.Linear(10, 10).cpu()\n",
    "    #log_sigma_logit = torch.nn.Parameter(torch.zeros(1).cpu())\n",
    "\n",
    "\n",
    "    optim = torch.optim.Adam(list(student.parameters()) + list(mu_feat.parameters()) + [log_sigma_feat])    \n",
    "\n",
    "\n",
    "    for e in range(25):\n",
    "        tq = tqdm.tqdm(train_loader_no_augumentation)\n",
    "        losses = []\n",
    "\n",
    "        for batch_id, (x,y) in enumerate(tq):\n",
    "            x = x.to(device)\n",
    "            y = y.to(device)\n",
    "            optim.zero_grad()\n",
    "            student_feat, student_logits = student.get_features(x, [3,4])\n",
    "            teacher_feat, teacher_logits = teacher.get_features(x, [3,4])\n",
    "            class_loss = crit(student_logits, y)\n",
    "            sigma2 = torch.log(1+torch.exp(log_sigma_feat))\n",
    "            feat_loss = ((mu_feat(teacher_feat) - student_feat)**2).sum(1).mean()/(2*sigma2) + 0.5*torch.log(sigma2)*np.prod(teacher_feat.shape[1:])\n",
    "            #logit_loss =((mu_feat(teacher_feat) - student_feat)**2).sum(1).mean()/(2*sigma2) + 0.5*torch.log(sigma2)*np.prod(teacher_feat.shape[1:])\n",
    "            #lam1 = 0.5\n",
    "            loss = class_loss * (1.0-lam1) + feat_loss * lam1\n",
    "\n",
    "\n",
    "            loss.backward()\n",
    "            optim.step()\n",
    "            losses.append(loss.detach().cpu().numpy())\n",
    "            tq.set_description('current loss:{}'.format(np.mean(losses[-10:])))      \n",
    "        #scheduler.step()\n",
    "        student.eval()\n",
    "        ac = float(accuracy(student, test_loader))\n",
    "        print(e, ac)\n",
    "        student.train()\n",
    "        with open('../logs/acc_mi_'+experiment_version+'.txt','a') as out:\n",
    "            out.write('{}: {}: {}\\n'.format(lam1, e, ac))"
   ]
  },
  {
   "cell_type": "code",
   "execution_count": 21,
   "metadata": {
    "ExecuteTime": {
     "end_time": "2022-03-25T09:03:54.732313Z",
     "start_time": "2022-03-25T09:03:54.726495Z"
    }
   },
   "outputs": [],
   "source": [
    "path = '../logs/acc_mi_'+experiment_version+'.txt'\n",
    "\n",
    "with open(path, \"r\") as read_file:\n",
    "    data = [float(line.split()[2]) for line in read_file]"
   ]
  },
  {
   "cell_type": "code",
   "execution_count": 22,
   "metadata": {
    "ExecuteTime": {
     "end_time": "2022-03-25T09:04:07.088832Z",
     "start_time": "2022-03-25T09:04:07.086202Z"
    }
   },
   "outputs": [],
   "source": [
    "data = np.reshape(np.array(data), (-1, 25))"
   ]
  },
  {
   "cell_type": "code",
   "execution_count": 27,
   "metadata": {
    "ExecuteTime": {
     "end_time": "2022-03-25T09:05:19.045244Z",
     "start_time": "2022-03-25T09:05:19.040128Z"
    }
   },
   "outputs": [],
   "source": [
    "from matplotlib import pylab as plt\n",
    "\n",
    "plt.rcParams['font.family'] = 'DejaVu Serif'\n",
    "plt.rcParams['lines.linewidth'] = 2\n",
    "plt.rcParams['lines.markersize'] = 12\n",
    "plt.rcParams['xtick.labelsize'] = 24\n",
    "plt.rcParams['ytick.labelsize'] = 24\n",
    "plt.rcParams['legend.fontsize'] = 24\n",
    "plt.rcParams['axes.titlesize'] = 36\n",
    "plt.rcParams['axes.labelsize'] = 24"
   ]
  },
  {
   "cell_type": "code",
   "execution_count": 38,
   "metadata": {
    "ExecuteTime": {
     "end_time": "2022-03-25T09:15:43.529895Z",
     "start_time": "2022-03-25T09:15:43.230085Z"
    }
   },
   "outputs": [
    {
     "data": {
      "image/png": "[encoded data removed]",
      "text/plain": [
       "<Figure size 864x648 with 1 Axes>"
      ]
     },
     "metadata": {
      "needs_background": "light"
     },
     "output_type": "display_data"
    }
   ],
   "source": [
    "lambdas = [1e-7, 1e-6, 1e-5, 1e-4, 1e-3, 1e-2, 0.1, 0.5]\n",
    "\n",
    "for i in range(8):\n",
    "    plt.plot(data[i], label=str(lambdas[i]))\n",
    "    plt.legend()"
   ]
  },
  {
   "cell_type": "code",
   "execution_count": null,
   "metadata": {},
   "outputs": [],
   "source": []
  }
 ],
 "metadata": {
  "kernelspec": {
   "display_name": "Python 3",
   "language": "python",
   "name": "python3"
  },
  "language_info": {
   "codemirror_mode": {
    "name": "ipython",
    "version": 3
   },
   "file_extension": ".py",
   "mimetype": "text/x-python",
   "name": "python",
   "nbconvert_exporter": "python",
   "pygments_lexer": "ipython3",
   "version": "3.8.5"
  },
  "latex_envs": {
   "LaTeX_envs_menu_present": true,
   "autoclose": true,
   "autocomplete": true,
   "bibliofile": "biblio.bib",
   "cite_by": "apalike",
   "current_citInitial": 1,
   "eqLabelWithNumbers": true,
   "eqNumInitial": 1,
   "hotkeys": {
    "equation": "Ctrl-E",
    "itemize": "Ctrl-I"
   },
   "labels_anchors": false,
   "latex_user_defs": false,
   "report_style_numbering": false,
   "user_envs_cfg": false
  },
  "toc": {
   "base_numbering": 1,
   "nav_menu": {},
   "number_sections": false,
   "sideBar": true,
   "skip_h1_title": false,
   "title_cell": "Table of Contents",
   "title_sidebar": "Contents",
   "toc_cell": false,
   "toc_position": {},
   "toc_section_display": true,
   "toc_window_display": false
  },
  "varInspector": {
   "cols": {
    "lenName": 16,
    "lenType": 16,
    "lenVar": 40
   },
   "kernels_config": {
    "python": {
     "delete_cmd_postfix": "",
     "delete_cmd_prefix": "del ",
     "library": "var_list.py",
     "varRefreshCmd": "print(var_dic_list())"
    },
    "r": {
     "delete_cmd_postfix": ") ",
     "delete_cmd_prefix": "rm(",
     "library": "var_list.r",
     "varRefreshCmd": "cat(var_dic_list()) "
    }
   },
   "types_to_exclude": [
    "module",
    "function",
    "builtin_function_or_method",
    "instance",
    "_Feature"
   ],
   "window_display": false
  }
 },
 "nbformat": 4,
 "nbformat_minor": 4
}
